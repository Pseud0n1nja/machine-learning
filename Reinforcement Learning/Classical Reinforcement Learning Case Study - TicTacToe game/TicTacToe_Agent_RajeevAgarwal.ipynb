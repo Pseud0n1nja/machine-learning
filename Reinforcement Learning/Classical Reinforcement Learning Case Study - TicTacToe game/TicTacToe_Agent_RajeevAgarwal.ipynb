{
 "cells": [
  {
   "cell_type": "markdown",
   "metadata": {
    "colab_type": "text",
    "id": "rznSDgbvGggG"
   },
   "source": [
    "## Tic-Tac-Toe Agent\n",
    "​\n",
    "In this assignment, you need to build an RL agent (using Q-learning) that learns to play Numerical Tic-Tac-Toe with odd numbers. The environment is playing randomly with the agent, i.e. its strategy is to put an even number randomly in an empty cell. The following is the layout of the notebook:\n",
    "        - Defining epsilon-greedy strategy\n",
    "        - Tracking state-action pairs for convergence\n",
    "        - Define hyperparameters for the Q-learning algorithm\n",
    "        - Generating episode and applying Q-update equation\n",
    "        - Checking convergence in Q-values"
   ]
  },
  {
   "cell_type": "markdown",
   "metadata": {
    "colab_type": "text",
    "id": "8eDb8PxBGggH"
   },
   "source": [
    "#### Importing libraries\n",
    "Write the code to import Tic-Tac-Toe class from the environment file"
   ]
  },
  {
   "cell_type": "code",
   "execution_count": 1,
   "metadata": {
    "colab": {},
    "colab_type": "code",
    "id": "6SFNYceFGggJ"
   },
   "outputs": [],
   "source": [
    "from TCGame_Env_RajeevAgarwal import TicTacToe\n",
    "import collections\n",
    "import numpy as np\n",
    "import random\n",
    "import pickle\n",
    "import time\n",
    "from matplotlib import pyplot as plt"
   ]
  },
  {
   "cell_type": "code",
   "execution_count": 2,
   "metadata": {
    "colab": {},
    "colab_type": "code",
    "id": "wYLQyopEG8nz"
   },
   "outputs": [],
   "source": [
    "# Function to convert state array into a string to store it as keys in the dictionary\n",
    "# states in Q-dictionary will be of form: x-4-5-3-8-x-x-x-x\n",
    "#   x | 4 | 5\n",
    "#   ----------\n",
    "#   3 | 8 | x\n",
    "#   ----------\n",
    "#   x | x | x\n",
    "\n",
    "def Q_state(state):\n",
    "\n",
    "    return ('-'.join(str(e) for e in state)).replace('nan','x')"
   ]
  },
  {
   "cell_type": "code",
   "execution_count": 3,
   "metadata": {
    "colab": {},
    "colab_type": "code",
    "id": "ZebMOoiVHBBr"
   },
   "outputs": [],
   "source": [
    "# Defining a function which will return valid (all possible actions) actions corresponding to a state\n",
    "# Important to avoid errors during deployment.\n",
    "\n",
    "def valid_actions(state):\n",
    "\n",
    "    valid_Actions = []\n",
    "    \n",
    "    valid_Actions = [i for i in env.action_space(state)[0]] ###### -------please call your environment as env\n",
    "    return valid_Actions"
   ]
  },
  {
   "cell_type": "code",
   "execution_count": 4,
   "metadata": {
    "colab": {},
    "colab_type": "code",
    "id": "IRciPUkYHDWf"
   },
   "outputs": [],
   "source": [
    "# Defining a function which will add new Q-values to the Q-dictionary. \n",
    "def add_to_dict(state):\n",
    "    state1 = Q_state(state)\n",
    "    \n",
    "    valid_act = valid_actions(state)\n",
    "    if state1 not in Q_dict.keys():\n",
    "        for action in valid_act:\n",
    "            Q_dict[state1][action]=0"
   ]
  },
  {
   "cell_type": "markdown",
   "metadata": {
    "colab_type": "text",
    "id": "fNNi_EfHGggM"
   },
   "source": [
    "#### Epsilon-greedy strategy - Write your code here\n",
    "\n",
    "(you can build your epsilon-decay function similar to the one given at the end of the notebook)"
   ]
  },
  {
   "cell_type": "code",
   "execution_count": 5,
   "metadata": {
    "colab": {},
    "colab_type": "code",
    "id": "m0lMfqiJGggN"
   },
   "outputs": [],
   "source": [
    "# Defining epsilon-greedy policy. You can choose any function epsilon-decay strategy\n",
    "def epsilon_greedy(state, time):\n",
    "    epsilon = - 1/ (1 + np.exp((-time+5000000)/1100000)) + 1\n",
    "    z = np.random.random()\n",
    "    \n",
    "    if z > epsilon:\n",
    "        action = max(Q_dict[state],key=Q_dict[state].get)   #Exploitation: this gets the action corresponding to max q-value of current state\n",
    "    else:\n",
    "        valid_act = [i for i in Q_dict[state]]\n",
    "        index = random.randint(0,len(valid_act)-1)\n",
    "        action = valid_act[index]    #Exploration: randomly choosing any action\n",
    "    \n",
    "    return action\n"
   ]
  },
  {
   "cell_type": "markdown",
   "metadata": {
    "colab_type": "text",
    "id": "H2kyQHOMGggR"
   },
   "source": [
    "#### Tracking the state-action pairs for checking convergence - write your code here"
   ]
  },
  {
   "cell_type": "code",
   "execution_count": 6,
   "metadata": {
    "colab": {},
    "colab_type": "code",
    "id": "qcxZ29vdGggS"
   },
   "outputs": [
    {
     "name": "stdout",
     "output_type": "stream",
     "text": [
      "0\n",
      "9\n",
      "0\n"
     ]
    }
   ],
   "source": [
    "# Initialise Q_dictionary as 'Q_dict' and States_tracked as 'States_track' (for convergence)\n",
    "\n",
    "Q_dict = collections.defaultdict(dict)\n",
    "\n",
    "States_track = collections.defaultdict(dict)\n",
    "\n",
    "rewards_tracked = {'1-x-x-4-x-x-x-x-x':[],'x-3-x-x-x-x-x-x-8':[], 'x-x-5-x-6-x-x-x-x':[], \n",
    "                   'x-x-x-7-2-x-x-x-x':[], '6-x-x-x-9-x-x-x-x':[], 'x-4-x-x-x-1-x-x-x':[],\n",
    "                   'x-x-x-x-x-x-3-x-8':[], 'x-x-4-x-x-x-x-5-x':[], 'x-x-x-x-2-x-x-x-7':[]}\n",
    "\n",
    "\n",
    "print(len(Q_dict))\n",
    "print(len(rewards_tracked))\n",
    "print(len(States_track))"
   ]
  },
  {
   "cell_type": "code",
   "execution_count": 7,
   "metadata": {
    "colab": {},
    "colab_type": "code",
    "id": "vs73iv8fHOxV"
   },
   "outputs": [],
   "source": [
    "# Initialise states to be tracked\n",
    "def initialise_tracking_states():\n",
    "#This function will initialise the 9 Q-values which need to be tracked for checking convergence\n",
    "#Since every episode starts from a clean slate, we will use the states for initialization after both agent and environment\n",
    "#have performed one move each and the action is agent's second action\n",
    "\n",
    "    sample_q_values = [('1-x-x-4-x-x-x-x-x',(7,3)),('x-3-x-x-x-x-x-x-8',(5,5)),('x-x-5-x-6-x-x-x-x',(6,3)),\n",
    "                       ('x-x-x-7-2-x-x-x-x',(5,1)),('6-x-x-x-9-x-x-x-x',(3,1)),('x-4-x-x-x-1-x-x-x',(2,9)),\n",
    "                       ('x-x-x-x-x-x-3-x-8',(7,5)),('x-x-4-x-x-x-x-5-x',(8,7)),('x-x-x-x-2-x-x-x-7',(0,1))] #select any 9 Q-values\n",
    "    for q_values in sample_q_values:\n",
    "        state = q_values[0]\n",
    "        action = q_values[1]\n",
    "        States_track[state][action] = []    #this is an array which will have appended values of that state-action pair for every 2000th episode         \n"
   ]
  },
  {
   "cell_type": "code",
   "execution_count": 8,
   "metadata": {
    "colab": {},
    "colab_type": "code",
    "id": "dAbwJDMVHpwl"
   },
   "outputs": [],
   "source": [
    "#Defining a function to save the Q-dictionary as a pickle file\n",
    "\n",
    "def save_obj(obj, name ):\n",
    "    with open(name + '.pkl', 'wb') as f:\n",
    "        pickle.dump(obj, f, pickle.HIGHEST_PROTOCOL)"
   ]
  },
  {
   "cell_type": "code",
   "execution_count": 9,
   "metadata": {
    "colab": {},
    "colab_type": "code",
    "id": "6Pyj7nMVHsBi"
   },
   "outputs": [],
   "source": [
    "def save_tracking_states():\n",
    "    for state in States_track.keys():\n",
    "        for action in States_track[state].keys():\n",
    "            if state in Q_dict and action in Q_dict[state]:\n",
    "                States_track[state][action].append(Q_dict[state][action])"
   ]
  },
  {
   "cell_type": "code",
   "execution_count": 10,
   "metadata": {
    "colab": {},
    "colab_type": "code",
    "id": "B_8xSluUHvew"
   },
   "outputs": [],
   "source": [
    "initialise_tracking_states()"
   ]
  },
  {
   "cell_type": "markdown",
   "metadata": {
    "colab_type": "text",
    "id": "-iPt--E9GggV"
   },
   "source": [
    "#### Define hyperparameters  ---write your code here"
   ]
  },
  {
   "cell_type": "code",
   "execution_count": 11,
   "metadata": {
    "colab": {},
    "colab_type": "code",
    "id": "G0_f5czFGggW"
   },
   "outputs": [],
   "source": [
    "EPISODES = 10000000         #10 million episodes\n",
    "LR = 0.01                   #learning rate\n",
    "GAMMA = 0.91                #discount factor\n",
    "threshold = 2000            #every these many episodes, the 4 Q-values will be stored/appended (convergence graphs)\n",
    "policy_threshold = 30000    #every these many episodes, the Q-dict will be updated"
   ]
  },
  {
   "cell_type": "markdown",
   "metadata": {
    "colab_type": "text",
    "id": "Md6twJ7wGggh"
   },
   "source": [
    "### Q-update loop ---write your code here"
   ]
  },
  {
   "cell_type": "code",
   "execution_count": 12,
   "metadata": {
    "colab": {},
    "colab_type": "code",
    "id": "ldCgQuDNGggj"
   },
   "outputs": [],
   "source": [
    "start_time = time.time()\n",
    "\n",
    "for episode in range(EPISODES):\n",
    "    ##### Start writing your code from the next line\n",
    "    \n",
    "    env = TicTacToe()      #creating an instance of the class\n",
    "    #this initialises the state back to initial blank slate which is required for every new episode\n",
    "    #this also initialises all_possible_numbers variable.\n",
    "    \n",
    "    curr_state = env.state     \n",
    "    \n",
    "    curr_Q_state = Q_state(curr_state)    \n",
    "    \n",
    "    add_to_dict(curr_state)\n",
    "    \n",
    "    time_step = 0\n",
    "    valid_act = valid_actions(curr_state)\n",
    "    #print (valid_act )\n",
    "    index = random.randint(0,len(valid_act)-1)\n",
    "    curr_action = valid_act[index] #randomly choosing an action\n",
    "    \n",
    "    next_state, reward, terminal_check = env.step(curr_state, curr_action)   #reward for the first step is -1\n",
    "    \n",
    "    next_Q_state = Q_state(next_state)\n",
    "    initial_state = next_Q_state    #for the purpose of tracking reward. we are updating initial_state when both agent and\n",
    "                                    # environment have performed one move each \n",
    "    \n",
    "    add_to_dict(next_state)\n",
    "\n",
    "    curr_Q_state = next_Q_state       #updating current state\n",
    "    \n",
    "    total_reward = reward\n",
    "    \n",
    "    \n",
    "    while terminal_check == False:    #the episode will run until terminal state is reached\n",
    "        \n",
    "        #get epsilon greedy action      \n",
    "        curr_action = epsilon_greedy(curr_Q_state, episode)\n",
    "        \n",
    "        next_state, reward, terminal_check = env.step(curr_state, curr_action)\n",
    "        \n",
    "        next_Q_state = Q_state(next_state)\n",
    "        add_to_dict(next_state)\n",
    "            \n",
    "        # UPDATE RULE\n",
    "        if terminal_check == False:\n",
    "            max_next = max(Q_dict[next_Q_state],key=Q_dict[next_Q_state].get)   #this gets the action corresponding to max q-value of next state\n",
    "            Q_dict[curr_Q_state][curr_action] += LR * ((reward + (GAMMA*(Q_dict[next_Q_state][max_next]))) - \n",
    "                                                   Q_dict[curr_Q_state][curr_action] ) \n",
    "        else:\n",
    "            #if the next state is a terminal state, then the Q-values from that state are 0\n",
    "            Q_dict[curr_Q_state][curr_action] += LR * ((reward + (GAMMA*(0))) - \n",
    "                                                   Q_dict[curr_Q_state][curr_action] )\n",
    "\n",
    "        curr_Q_state = next_Q_state       #state(t) became state(t-1)\n",
    "        curr_state = next_state\n",
    "\n",
    "        total_reward += reward\n",
    "        \n",
    "        time_step += 1\n",
    "\n",
    "    #TRACKING REWARDS\n",
    "    if initial_state in rewards_tracked:     #storing rewards\n",
    "        rewards_tracked[initial_state].append(total_reward)\n",
    "        #save_obj(rewards_tracked,'Rewards')\n",
    "\n",
    "    if ((episode+1) % threshold) == 0:   #every 2000th episode\n",
    "        save_obj(rewards_tracked,'Rewards')   \n",
    "    \n",
    "    #TRACKING Q-VALUES\n",
    "    if (episode == threshold-1):        #at the 1999th episode\n",
    "        initialise_tracking_states()\n",
    "      \n",
    "    if ((episode+1) % threshold) == 0:   #every 2000th episode\n",
    "        save_tracking_states()\n",
    "        save_obj(States_track,'States_tracked')   \n",
    "    \n",
    "    #SAVING POLICY\n",
    "    if ((episode+1)% policy_threshold ) == 0:  #every 30000th episodes, the Q-dict will be saved\n",
    "        save_obj(Q_dict,'Policy')    \n",
    "    \n",
    "elapsed_time = time.time() - start_time\n",
    "save_obj(States_track,'States_tracked')   \n",
    "save_obj(Q_dict,'Policy')"
   ]
  },
  {
   "cell_type": "code",
   "execution_count": 13,
   "metadata": {
    "colab": {},
    "colab_type": "code",
    "id": "hhdWewc4Gggo"
   },
   "outputs": [
    {
     "name": "stdout",
     "output_type": "stream",
     "text": [
      "10409.760227680206\n"
     ]
    }
   ],
   "source": [
    "print(elapsed_time)"
   ]
  },
  {
   "cell_type": "markdown",
   "metadata": {
    "colab_type": "text",
    "id": "t6eMFbb8Ggg2"
   },
   "source": [
    "#### Check the Q-dictionary"
   ]
  },
  {
   "cell_type": "code",
   "execution_count": 15,
   "metadata": {
    "colab": {},
    "colab_type": "code",
    "id": "F1tnDJWkGgg9"
   },
   "outputs": [
    {
     "data": {
      "text/plain": [
       "4272190"
      ]
     },
     "execution_count": 15,
     "metadata": {},
     "output_type": "execute_result"
    }
   ],
   "source": [
    "len(Q_dict)"
   ]
  },
  {
   "cell_type": "code",
   "execution_count": 16,
   "metadata": {
    "colab": {},
    "colab_type": "code",
    "id": "cFgUqfcQGghB"
   },
   "outputs": [
    {
     "name": "stdout",
     "output_type": "stream",
     "text": [
      "(2, 1)\n"
     ]
    }
   ],
   "source": [
    "# try checking for one of the states - that which action your agent thinks is the best  -----This will not be evaluated\n",
    "\n",
    "state = '5-9-x-4-2-x-x-x-x'\n",
    "\n",
    "action = max(Q_dict[state],key=Q_dict[state].get)\n",
    "\n",
    "print(action)"
   ]
  },
  {
   "cell_type": "markdown",
   "metadata": {},
   "source": [
    "#### If agent puts number 1 in position 2, the total in row 1 will be 15, hence this is the best action for the agent for this state"
   ]
  },
  {
   "cell_type": "code",
   "execution_count": 22,
   "metadata": {
    "colab": {},
    "colab_type": "code",
    "id": "cFgUqfcQGghB"
   },
   "outputs": [
    {
     "name": "stdout",
     "output_type": "stream",
     "text": [
      "(3, 5)\n"
     ]
    }
   ],
   "source": [
    "# try checking for another state- that which action your agent thinks is the best  \n",
    "\n",
    "state = '7-x-x-x-4-x-3-6-x'\n",
    "\n",
    "action = max(Q_dict[state],key=Q_dict[state].get)\n",
    "\n",
    "print(action)"
   ]
  },
  {
   "cell_type": "markdown",
   "metadata": {},
   "source": [
    "#### If agent puts number 5 in position 3, the total in column 1 will be 15, hence this is the best action for the agent for this state"
   ]
  },
  {
   "cell_type": "markdown",
   "metadata": {
    "colab_type": "text",
    "id": "KGPZEQDFGghG"
   },
   "source": [
    "#### Check the states tracked for Q-values convergence\n",
    "(non-evaluative)"
   ]
  },
  {
   "cell_type": "code",
   "execution_count": 17,
   "metadata": {
    "colab": {},
    "colab_type": "code",
    "id": "9s1Tvz8HGghH"
   },
   "outputs": [],
   "source": [
    "# Write the code for plotting the graphs for state-action pairs tracked"
   ]
  },
  {
   "cell_type": "code",
   "execution_count": 18,
   "metadata": {
    "colab": {},
    "colab_type": "code",
    "id": "pVQInsg7GghL"
   },
   "outputs": [],
   "source": [
    "with open('States_tracked.pkl', 'rb') as handle:\n",
    "    States_track = pickle.load(handle)  "
   ]
  },
  {
   "cell_type": "code",
   "execution_count": 19,
   "metadata": {},
   "outputs": [
    {
     "name": "stdout",
     "output_type": "stream",
     "text": [
      "9\n"
     ]
    }
   ],
   "source": [
    "print(len(States_track))"
   ]
  },
  {
   "cell_type": "code",
   "execution_count": 20,
   "metadata": {},
   "outputs": [
    {
     "name": "stdout",
     "output_type": "stream",
     "text": [
      "4999\n",
      "5000\n",
      "4999\n",
      "5000\n",
      "4998\n",
      "5000\n",
      "4999\n",
      "5000\n",
      "5000\n"
     ]
    }
   ],
   "source": [
    "for key, value in States_track.items():\n",
    "    for k,v in value.items():\n",
    "        print(len(v))"
   ]
  },
  {
   "cell_type": "code",
   "execution_count": 21,
   "metadata": {},
   "outputs": [
    {
     "data": {
      "image/png": "[encoded data removed]",
      "text/plain": [
       "<matplotlib.figure.Figure at 0x284d1d060b8>"
      ]
     },
     "metadata": {},
     "output_type": "display_data"
    }
   ],
   "source": [
    "#print(type(xaxis))\n",
    "\n",
    "plt.figure(0, figsize=(26,10))\n",
    "plt.subplot(251)\n",
    "plt.title('state=''1-x-x-4-x-x-x-x-x'' action=(7,3)')\n",
    "xaxis = np.asarray(range(0, len(States_track['1-x-x-4-x-x-x-x-x'][(7,3)])))\n",
    "plt.plot(xaxis,np.asarray(States_track['1-x-x-4-x-x-x-x-x'][(7,3)]))\n",
    "plt.subplot(252)\n",
    "plt.title('state=''x-3-x-x-x-x-x-x-8'' action=(5,5)')\n",
    "xaxis = np.asarray(range(0, len(States_track['x-3-x-x-x-x-x-x-8'][(5,5)])))\n",
    "plt.plot(xaxis,np.asarray(States_track['x-3-x-x-x-x-x-x-8'][(5,5)]))\n",
    "plt.subplot(253)\n",
    "plt.title('state=''x-x-5-x-6-x-x-x-x'' action=(6,3)')\n",
    "xaxis = np.asarray(range(0, len(States_track['x-x-5-x-6-x-x-x-x'][(6,3)])))\n",
    "plt.plot(xaxis,np.asarray(States_track['x-x-5-x-6-x-x-x-x'][(6,3)]))\n",
    "plt.subplot(254)\n",
    "plt.title('state=''x-x-x-7-2-x-x-x-x'' action=(5,1)')\n",
    "xaxis = np.asarray(range(0, len(States_track['x-x-x-7-2-x-x-x-x'][(5,1)])))\n",
    "plt.plot(xaxis,np.asarray(States_track['x-x-x-7-2-x-x-x-x'][(5,1)]))\n",
    "plt.subplot(255)\n",
    "plt.title('state=''6-x-x-x-9-x-x-x-x'' action=(3,1)')\n",
    "xaxis = np.asarray(range(0, len(States_track['6-x-x-x-9-x-x-x-x'][(3,1)])))\n",
    "plt.plot(xaxis,np.asarray(States_track['6-x-x-x-9-x-x-x-x'][(3,1)]))\n",
    "plt.subplot(256)\n",
    "plt.title('state=''x-4-x-x-x-1-x-x-x'' action=(2,9)')\n",
    "xaxis = np.asarray(range(0, len(States_track['x-4-x-x-x-1-x-x-x'][(2,9)])))\n",
    "plt.plot(xaxis,np.asarray(States_track['x-4-x-x-x-1-x-x-x'][(2,9)]))\n",
    "plt.subplot(257)\n",
    "plt.title('state=''x-x-x-x-x-x-3-x-8'' action=(7,5)')\n",
    "xaxis = np.asarray(range(0, len(States_track['x-x-x-x-x-x-3-x-8'][(7,5)])))\n",
    "plt.plot(xaxis,np.asarray(States_track['x-x-x-x-x-x-3-x-8'][(7,5)]))\n",
    "plt.subplot(258)\n",
    "plt.title('state=''x-x-4-x-x-x-x-5-x'' action=(8,7)')\n",
    "xaxis = np.asarray(range(0, len(States_track['x-x-4-x-x-x-x-5-x'][(8,7)])))\n",
    "plt.plot(xaxis,np.asarray(States_track['x-x-4-x-x-x-x-5-x'][(8,7)]))\n",
    "plt.subplot(259)\n",
    "plt.title('state=''x-x-x-x-2-x-x-x-7'' action=(0,1)')\n",
    "xaxis = np.asarray(range(0, len(States_track['x-x-x-x-2-x-x-x-7'][(0,1)])))\n",
    "plt.plot(xaxis,np.asarray(States_track['x-x-x-x-2-x-x-x-7'][(0,1)]))\n",
    "plt.show()"
   ]
  },
  {
   "cell_type": "markdown",
   "metadata": {
    "colab_type": "text",
    "id": "b2Opp8_NITkC"
   },
   "source": [
    "### Epsilon - decay check"
   ]
  },
  {
   "cell_type": "code",
   "execution_count": 25,
   "metadata": {
    "colab": {},
    "colab_type": "code",
    "id": "gQ_D_JsuGghR"
   },
   "outputs": [],
   "source": [
    "max_epsilon = 1.0\n",
    "min_epsilon = 0.001\n",
    "time = np.arange(0,5000000)\n",
    "epsilon = []\n",
    "for i in range(0,5000000):\n",
    "    epsilon.append(min_epsilon + (max_epsilon - min_epsilon) * np.exp(-0.000001*i))"
   ]
  },
  {
   "cell_type": "code",
   "execution_count": 26,
   "metadata": {
    "colab": {
     "base_uri": "https://localhost:8080/",
     "height": 347
    },
    "colab_type": "code",
    "id": "J7c2xADQGghV",
    "outputId": "cb60fce3-570b-45fb-bd83-abde3d13b273"
   },
   "outputs": [
    {
     "data": {
      "image/png": "[encoded data removed]",
      "text/plain": [
       "<matplotlib.figure.Figure at 0x284dc27b0f0>"
      ]
     },
     "metadata": {},
     "output_type": "display_data"
    }
   ],
   "source": [
    "plt.plot(time, epsilon)\n",
    "plt.show()"
   ]
  },
  {
   "cell_type": "code",
   "execution_count": 0,
   "metadata": {
    "colab": {},
    "colab_type": "code",
    "id": "59BRf43IJiQ1"
   },
   "outputs": [],
   "source": []
  }
 ],
 "metadata": {
  "colab": {
   "collapsed_sections": [],
   "name": "TicTacToe_Agent.ipynb",
   "provenance": [],
   "version": "0.3.2"
  },
  "kernelspec": {
   "display_name": "Python 3",
   "language": "python",
   "name": "python3"
  },
  "language_info": {
   "codemirror_mode": {
    "name": "ipython",
    "version": 3
   },
   "file_extension": ".py",
   "mimetype": "text/x-python",
   "name": "python",
   "nbconvert_exporter": "python",
   "pygments_lexer": "ipython3",
   "version": "3.6.5"
  }
 },
 "nbformat": 4,
 "nbformat_minor": 1
}
