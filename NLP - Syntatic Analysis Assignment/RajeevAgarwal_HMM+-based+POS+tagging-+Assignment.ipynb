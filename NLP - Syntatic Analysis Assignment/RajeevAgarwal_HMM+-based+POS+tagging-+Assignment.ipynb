{
 "cells": [
  {
   "cell_type": "markdown",
   "metadata": {},
   "source": [
    "## POS tagging using modified Viterbi"
   ]
  },
  {
   "cell_type": "markdown",
   "metadata": {},
   "source": [
    "### Data Preparation"
   ]
  },
  {
   "cell_type": "code",
   "execution_count": 48,
   "metadata": {},
   "outputs": [],
   "source": [
    "#Importing libraries\n",
    "import nltk\n",
    "import re, pprint\n",
    "import numpy as np\n",
    "import pandas as pd\n",
    "import requests\n",
    "import matplotlib.pyplot as plt\n",
    "import seaborn as sns\n",
    "import pprint, time\n",
    "import random\n",
    "from sklearn.model_selection import train_test_split\n",
    "from nltk.tokenize import word_tokenize"
   ]
  },
  {
   "cell_type": "code",
   "execution_count": 49,
   "metadata": {},
   "outputs": [],
   "source": [
    "# reading the Treebank tagged sentences\n",
    "nltk_data = list(nltk.corpus.treebank.tagged_sents(tagset='universal'))"
   ]
  },
  {
   "cell_type": "code",
   "execution_count": 50,
   "metadata": {},
   "outputs": [
    {
     "name": "stdout",
     "output_type": "stream",
     "text": [
      "[[('Pierre', 'NOUN'), ('Vinken', 'NOUN'), (',', '.'), ('61', 'NUM'), ('years', 'NOUN'), ('old', 'ADJ'), (',', '.'), ('will', 'VERB'), ('join', 'VERB'), ('the', 'DET'), ('board', 'NOUN'), ('as', 'ADP'), ('a', 'DET'), ('nonexecutive', 'ADJ'), ('director', 'NOUN'), ('Nov.', 'NOUN'), ('29', 'NUM'), ('.', '.')], [('Mr.', 'NOUN'), ('Vinken', 'NOUN'), ('is', 'VERB'), ('chairman', 'NOUN'), ('of', 'ADP'), ('Elsevier', 'NOUN'), ('N.V.', 'NOUN'), (',', '.'), ('the', 'DET'), ('Dutch', 'NOUN'), ('publishing', 'VERB'), ('group', 'NOUN'), ('.', '.')], [('Rudolph', 'NOUN'), ('Agnew', 'NOUN'), (',', '.'), ('55', 'NUM'), ('years', 'NOUN'), ('old', 'ADJ'), ('and', 'CONJ'), ('former', 'ADJ'), ('chairman', 'NOUN'), ('of', 'ADP'), ('Consolidated', 'NOUN'), ('Gold', 'NOUN'), ('Fields', 'NOUN'), ('PLC', 'NOUN'), (',', '.'), ('was', 'VERB'), ('named', 'VERB'), ('*-1', 'X'), ('a', 'DET'), ('nonexecutive', 'ADJ'), ('director', 'NOUN'), ('of', 'ADP'), ('this', 'DET'), ('British', 'ADJ'), ('industrial', 'ADJ'), ('conglomerate', 'NOUN'), ('.', '.')], [('A', 'DET'), ('form', 'NOUN'), ('of', 'ADP'), ('asbestos', 'NOUN'), ('once', 'ADV'), ('used', 'VERB'), ('*', 'X'), ('*', 'X'), ('to', 'PRT'), ('make', 'VERB'), ('Kent', 'NOUN'), ('cigarette', 'NOUN'), ('filters', 'NOUN'), ('has', 'VERB'), ('caused', 'VERB'), ('a', 'DET'), ('high', 'ADJ'), ('percentage', 'NOUN'), ('of', 'ADP'), ('cancer', 'NOUN'), ('deaths', 'NOUN'), ('among', 'ADP'), ('a', 'DET'), ('group', 'NOUN'), ('of', 'ADP'), ('workers', 'NOUN'), ('exposed', 'VERB'), ('*', 'X'), ('to', 'PRT'), ('it', 'PRON'), ('more', 'ADV'), ('than', 'ADP'), ('30', 'NUM'), ('years', 'NOUN'), ('ago', 'ADP'), (',', '.'), ('researchers', 'NOUN'), ('reported', 'VERB'), ('0', 'X'), ('*T*-1', 'X'), ('.', '.')], [('The', 'DET'), ('asbestos', 'NOUN'), ('fiber', 'NOUN'), (',', '.'), ('crocidolite', 'NOUN'), (',', '.'), ('is', 'VERB'), ('unusually', 'ADV'), ('resilient', 'ADJ'), ('once', 'ADP'), ('it', 'PRON'), ('enters', 'VERB'), ('the', 'DET'), ('lungs', 'NOUN'), (',', '.'), ('with', 'ADP'), ('even', 'ADV'), ('brief', 'ADJ'), ('exposures', 'NOUN'), ('to', 'PRT'), ('it', 'PRON'), ('causing', 'VERB'), ('symptoms', 'NOUN'), ('that', 'DET'), ('*T*-1', 'X'), ('show', 'VERB'), ('up', 'PRT'), ('decades', 'NOUN'), ('later', 'ADJ'), (',', '.'), ('researchers', 'NOUN'), ('said', 'VERB'), ('0', 'X'), ('*T*-2', 'X'), ('.', '.')], [('Lorillard', 'NOUN'), ('Inc.', 'NOUN'), (',', '.'), ('the', 'DET'), ('unit', 'NOUN'), ('of', 'ADP'), ('New', 'ADJ'), ('York-based', 'ADJ'), ('Loews', 'NOUN'), ('Corp.', 'NOUN'), ('that', 'DET'), ('*T*-2', 'X'), ('makes', 'VERB'), ('Kent', 'NOUN'), ('cigarettes', 'NOUN'), (',', '.'), ('stopped', 'VERB'), ('using', 'VERB'), ('crocidolite', 'NOUN'), ('in', 'ADP'), ('its', 'PRON'), ('Micronite', 'NOUN'), ('cigarette', 'NOUN'), ('filters', 'NOUN'), ('in', 'ADP'), ('1956', 'NUM'), ('.', '.')], [('Although', 'ADP'), ('preliminary', 'ADJ'), ('findings', 'NOUN'), ('were', 'VERB'), ('reported', 'VERB'), ('*-2', 'X'), ('more', 'ADV'), ('than', 'ADP'), ('a', 'DET'), ('year', 'NOUN'), ('ago', 'ADP'), (',', '.'), ('the', 'DET'), ('latest', 'ADJ'), ('results', 'NOUN'), ('appear', 'VERB'), ('in', 'ADP'), ('today', 'NOUN'), (\"'s\", 'PRT'), ('New', 'NOUN'), ('England', 'NOUN'), ('Journal', 'NOUN'), ('of', 'ADP'), ('Medicine', 'NOUN'), (',', '.'), ('a', 'DET'), ('forum', 'NOUN'), ('likely', 'ADJ'), ('*', 'X'), ('to', 'PRT'), ('bring', 'VERB'), ('new', 'ADJ'), ('attention', 'NOUN'), ('to', 'PRT'), ('the', 'DET'), ('problem', 'NOUN'), ('.', '.')], [('A', 'DET'), ('Lorillard', 'NOUN'), ('spokewoman', 'NOUN'), ('said', 'VERB'), (',', '.'), ('``', '.'), ('This', 'DET'), ('is', 'VERB'), ('an', 'DET'), ('old', 'ADJ'), ('story', 'NOUN'), ('.', '.')], [('We', 'PRON'), (\"'re\", 'VERB'), ('talking', 'VERB'), ('about', 'ADP'), ('years', 'NOUN'), ('ago', 'ADP'), ('before', 'ADP'), ('anyone', 'NOUN'), ('heard', 'VERB'), ('of', 'ADP'), ('asbestos', 'NOUN'), ('having', 'VERB'), ('any', 'DET'), ('questionable', 'ADJ'), ('properties', 'NOUN'), ('.', '.')], [('There', 'DET'), ('is', 'VERB'), ('no', 'DET'), ('asbestos', 'NOUN'), ('in', 'ADP'), ('our', 'PRON'), ('products', 'NOUN'), ('now', 'ADV'), ('.', '.'), (\"''\", '.')], [('Neither', 'DET'), ('Lorillard', 'NOUN'), ('nor', 'CONJ'), ('the', 'DET'), ('researchers', 'NOUN'), ('who', 'PRON'), ('*T*-3', 'X'), ('studied', 'VERB'), ('the', 'DET'), ('workers', 'NOUN'), ('were', 'VERB'), ('aware', 'ADJ'), ('of', 'ADP'), ('any', 'DET'), ('research', 'NOUN'), ('on', 'ADP'), ('smokers', 'NOUN'), ('of', 'ADP'), ('the', 'DET'), ('Kent', 'NOUN'), ('cigarettes', 'NOUN'), ('.', '.')], [('``', '.'), ('We', 'PRON'), ('have', 'VERB'), ('no', 'DET'), ('useful', 'ADJ'), ('information', 'NOUN'), ('on', 'ADP'), ('whether', 'ADP'), ('users', 'NOUN'), ('are', 'VERB'), ('at', 'ADP'), ('risk', 'NOUN'), (',', '.'), (\"''\", '.'), ('said', 'VERB'), ('*T*-1', 'X'), ('James', 'NOUN'), ('A.', 'NOUN'), ('Talcott', 'NOUN'), ('of', 'ADP'), ('Boston', 'NOUN'), (\"'s\", 'PRT'), ('Dana-Farber', 'NOUN'), ('Cancer', 'NOUN'), ('Institute', 'NOUN'), ('.', '.')], [('Dr.', 'NOUN'), ('Talcott', 'NOUN'), ('led', 'VERB'), ('a', 'DET'), ('team', 'NOUN'), ('of', 'ADP'), ('researchers', 'NOUN'), ('from', 'ADP'), ('the', 'DET'), ('National', 'NOUN'), ('Cancer', 'NOUN'), ('Institute', 'NOUN'), ('and', 'CONJ'), ('the', 'DET'), ('medical', 'ADJ'), ('schools', 'NOUN'), ('of', 'ADP'), ('Harvard', 'NOUN'), ('University', 'NOUN'), ('and', 'CONJ'), ('Boston', 'NOUN'), ('University', 'NOUN'), ('.', '.')], [('The', 'DET'), ('Lorillard', 'NOUN'), ('spokeswoman', 'NOUN'), ('said', 'VERB'), ('0', 'X'), ('asbestos', 'NOUN'), ('was', 'VERB'), ('used', 'VERB'), ('*-1', 'X'), ('in', 'ADP'), ('``', '.'), ('very', 'ADV'), ('modest', 'ADJ'), ('amounts', 'NOUN'), (\"''\", '.'), ('in', 'ADP'), ('*', 'X'), ('making', 'VERB'), ('paper', 'NOUN'), ('for', 'ADP'), ('the', 'DET'), ('filters', 'NOUN'), ('in', 'ADP'), ('the', 'DET'), ('early', 'ADJ'), ('1950s', 'NUM'), ('and', 'CONJ'), ('replaced', 'VERB'), ('*-1', 'X'), ('with', 'ADP'), ('a', 'DET'), ('different', 'ADJ'), ('type', 'NOUN'), ('of', 'ADP'), ('filter', 'NOUN'), ('in', 'ADP'), ('1956', 'NUM'), ('.', '.')], [('From', 'ADP'), ('1953', 'NUM'), ('to', 'PRT'), ('1955', 'NUM'), (',', '.'), ('9.8', 'NUM'), ('billion', 'NUM'), ('Kent', 'NOUN'), ('cigarettes', 'NOUN'), ('with', 'ADP'), ('the', 'DET'), ('filters', 'NOUN'), ('were', 'VERB'), ('sold', 'VERB'), ('*-3', 'X'), (',', '.'), ('the', 'DET'), ('company', 'NOUN'), ('said', 'VERB'), ('0', 'X'), ('*T*-1', 'X'), ('.', '.')], [('Among', 'ADP'), ('33', 'NUM'), ('men', 'NOUN'), ('who', 'PRON'), ('*T*-4', 'X'), ('worked', 'VERB'), ('closely', 'ADV'), ('with', 'ADP'), ('the', 'DET'), ('substance', 'NOUN'), (',', '.'), ('28', 'NUM'), ('*ICH*-1', 'X'), ('have', 'VERB'), ('died', 'VERB'), ('--', '.'), ('more', 'ADJ'), ('than', 'ADP'), ('three', 'NUM'), ('times', 'NOUN'), ('the', 'DET'), ('expected', 'VERB'), ('number', 'NOUN'), ('.', '.')], [('Four', 'NUM'), ('of', 'ADP'), ('the', 'DET'), ('five', 'NUM'), ('surviving', 'VERB'), ('workers', 'NOUN'), ('have', 'VERB'), ('asbestos-related', 'ADJ'), ('diseases', 'NOUN'), (',', '.'), ('including', 'VERB'), ('three', 'NUM'), ('with', 'ADP'), ('recently', 'ADV'), ('diagnosed', 'VERB'), ('cancer', 'NOUN'), ('.', '.')], [('The', 'DET'), ('total', 'NOUN'), ('of', 'ADP'), ('18', 'NUM'), ('deaths', 'NOUN'), ('from', 'ADP'), ('malignant', 'ADJ'), ('mesothelioma', 'NOUN'), (',', '.'), ('lung', 'NOUN'), ('cancer', 'NOUN'), ('and', 'CONJ'), ('asbestosis', 'NOUN'), ('was', 'VERB'), ('far', 'ADV'), ('higher', 'ADJ'), ('than', 'ADP'), ('*', 'X'), ('expected', 'VERB'), ('*?*', 'X'), (',', '.'), ('the', 'DET'), ('researchers', 'NOUN'), ('said', 'VERB'), ('0', 'X'), ('*T*-1', 'X'), ('.', '.')], [('``', '.'), ('The', 'DET'), ('morbidity', 'NOUN'), ('rate', 'NOUN'), ('is', 'VERB'), ('a', 'DET'), ('striking', 'ADJ'), ('finding', 'NOUN'), ('among', 'ADP'), ('those', 'DET'), ('of', 'ADP'), ('us', 'PRON'), ('who', 'PRON'), ('*T*-5', 'X'), ('study', 'VERB'), ('asbestos-related', 'ADJ'), ('diseases', 'NOUN'), (',', '.'), (\"''\", '.'), ('said', 'VERB'), ('*T*-1', 'X'), ('Dr.', 'NOUN'), ('Talcott', 'NOUN'), ('.', '.')], [('The', 'DET'), ('percentage', 'NOUN'), ('of', 'ADP'), ('lung', 'NOUN'), ('cancer', 'NOUN'), ('deaths', 'NOUN'), ('among', 'ADP'), ('the', 'DET'), ('workers', 'NOUN'), ('at', 'ADP'), ('the', 'DET'), ('West', 'NOUN'), ('Groton', 'NOUN'), (',', '.'), ('Mass.', 'NOUN'), (',', '.'), ('paper', 'NOUN'), ('factory', 'NOUN'), ('appears', 'VERB'), ('*-1', 'X'), ('to', 'PRT'), ('be', 'VERB'), ('the', 'DET'), ('highest', 'ADJ'), ('for', 'ADP'), ('any', 'DET'), ('asbestos', 'NOUN'), ('workers', 'NOUN'), ('studied', 'VERB'), ('*', 'X'), ('in', 'ADP'), ('Western', 'ADJ'), ('industrialized', 'VERB'), ('countries', 'NOUN'), (',', '.'), ('he', 'PRON'), ('said', 'VERB'), ('0', 'X'), ('*T*-2', 'X'), ('.', '.')], [('The', 'DET'), ('plant', 'NOUN'), (',', '.'), ('which', 'DET'), ('*T*-1', 'X'), ('is', 'VERB'), ('owned', 'VERB'), ('*-4', 'X'), ('by', 'ADP'), ('Hollingsworth', 'NOUN'), ('&', 'CONJ'), ('Vose', 'NOUN'), ('Co.', 'NOUN'), (',', '.'), ('was', 'VERB'), ('under', 'ADP'), ('contract', 'NOUN'), ('*ICH*-2', 'X'), ('with', 'ADP'), ('Lorillard', 'NOUN'), ('*', 'X'), ('to', 'PRT'), ('make', 'VERB'), ('the', 'DET'), ('cigarette', 'NOUN'), ('filters', 'NOUN'), ('.', '.')], [('The', 'DET'), ('finding', 'NOUN'), ('probably', 'ADV'), ('will', 'VERB'), ('support', 'VERB'), ('those', 'DET'), ('who', 'PRON'), ('*T*-6', 'X'), ('argue', 'VERB'), ('that', 'ADP'), ('the', 'DET'), ('U.S.', 'NOUN'), ('should', 'VERB'), ('regulate', 'VERB'), ('the', 'DET'), ('class', 'NOUN'), ('of', 'ADP'), ('asbestos', 'NOUN'), ('including', 'VERB'), ('crocidolite', 'NOUN'), ('more', 'ADV'), ('stringently', 'ADV'), ('than', 'ADP'), ('the', 'DET'), ('common', 'ADJ'), ('kind', 'NOUN'), ('of', 'ADP'), ('asbestos', 'NOUN'), (',', '.'), ('chrysotile', 'NOUN'), (',', '.'), ('found', 'VERB'), ('*', 'X'), ('in', 'ADP'), ('most', 'ADJ'), ('schools', 'NOUN'), ('and', 'CONJ'), ('other', 'ADJ'), ('buildings', 'NOUN'), (',', '.'), ('Dr.', 'NOUN'), ('Talcott', 'NOUN'), ('said', 'VERB'), ('0', 'X'), ('*T*-1', 'X'), ('.', '.')], [('The', 'DET'), ('U.S.', 'NOUN'), ('is', 'VERB'), ('one', 'NUM'), ('of', 'ADP'), ('the', 'DET'), ('few', 'ADJ'), ('industrialized', 'VERB'), ('nations', 'NOUN'), ('that', 'DET'), ('*T*-7', 'X'), ('does', 'VERB'), (\"n't\", 'ADV'), ('have', 'VERB'), ('a', 'DET'), ('higher', 'ADJ'), ('standard', 'NOUN'), ('of', 'ADP'), ('regulation', 'NOUN'), ('for', 'ADP'), ('the', 'DET'), ('smooth', 'ADJ'), (',', '.'), ('needle-like', 'ADJ'), ('fibers', 'NOUN'), ('such', 'ADJ'), ('as', 'ADP'), ('crocidolite', 'NOUN'), ('that', 'DET'), ('*T*-1', 'X'), ('are', 'VERB'), ('classified', 'VERB'), ('*-5', 'X'), ('as', 'ADP'), ('amphobiles', 'NOUN'), (',', '.'), ('according', 'VERB'), ('to', 'PRT'), ('Brooke', 'NOUN'), ('T.', 'NOUN'), ('Mossman', 'NOUN'), (',', '.'), ('a', 'DET'), ('professor', 'NOUN'), ('of', 'ADP'), ('pathlogy', 'NOUN'), ('at', 'ADP'), ('the', 'DET'), ('University', 'NOUN'), ('of', 'ADP'), ('Vermont', 'NOUN'), ('College', 'NOUN'), ('of', 'ADP'), ('Medicine', 'NOUN'), ('.', '.')], [('More', 'ADV'), ('common', 'ADJ'), ('chrysotile', 'NOUN'), ('fibers', 'NOUN'), ('are', 'VERB'), ('curly', 'ADJ'), ('and', 'CONJ'), ('are', 'VERB'), ('more', 'ADV'), ('easily', 'ADV'), ('rejected', 'VERB'), ('*-1', 'X'), ('by', 'ADP'), ('the', 'DET'), ('body', 'NOUN'), (',', '.'), ('Dr.', 'NOUN'), ('Mossman', 'NOUN'), ('explained', 'VERB'), ('0', 'X'), ('*T*-2', 'X'), ('.', '.')], [('In', 'ADP'), ('July', 'NOUN'), (',', '.'), ('the', 'DET'), ('Environmental', 'NOUN'), ('Protection', 'NOUN'), ('Agency', 'NOUN'), ('imposed', 'VERB'), ('a', 'DET'), ('gradual', 'ADJ'), ('ban', 'NOUN'), ('on', 'ADP'), ('virtually', 'ADV'), ('all', 'DET'), ('uses', 'NOUN'), ('of', 'ADP'), ('asbestos', 'NOUN'), ('.', '.')], [('By', 'ADP'), ('1997', 'NUM'), (',', '.'), ('almost', 'ADV'), ('all', 'DET'), ('remaining', 'VERB'), ('uses', 'NOUN'), ('of', 'ADP'), ('cancer-causing', 'ADJ'), ('asbestos', 'NOUN'), ('will', 'VERB'), ('be', 'VERB'), ('outlawed', 'VERB'), ('*-6', 'X'), ('.', '.')], [('About', 'ADP'), ('160', 'NUM'), ('workers', 'NOUN'), ('at', 'ADP'), ('a', 'DET'), ('factory', 'NOUN'), ('that', 'DET'), ('*T*-8', 'X'), ('made', 'VERB'), ('paper', 'NOUN'), ('for', 'ADP'), ('the', 'DET'), ('Kent', 'NOUN'), ('filters', 'NOUN'), ('were', 'VERB'), ('exposed', 'VERB'), ('*-7', 'X'), ('to', 'PRT'), ('asbestos', 'NOUN'), ('in', 'ADP'), ('the', 'DET'), ('1950s', 'NUM'), ('.', '.')], [('Areas', 'NOUN'), ('of', 'ADP'), ('the', 'DET'), ('factory', 'NOUN'), ('*ICH*-2', 'X'), ('were', 'VERB'), ('particularly', 'ADV'), ('dusty', 'ADJ'), ('where', 'ADV'), ('the', 'DET'), ('crocidolite', 'NOUN'), ('was', 'VERB'), ('used', 'VERB'), ('*-8', 'X'), ('*T*-1', 'X'), ('.', '.')], [('Workers', 'NOUN'), ('dumped', 'VERB'), ('large', 'ADJ'), ('burlap', 'NOUN'), ('sacks', 'NOUN'), ('of', 'ADP'), ('the', 'DET'), ('imported', 'VERB'), ('material', 'NOUN'), ('into', 'ADP'), ('a', 'DET'), ('huge', 'ADJ'), ('bin', 'NOUN'), (',', '.'), ('poured', 'VERB'), ('in', 'PRT'), ('cotton', 'NOUN'), ('and', 'CONJ'), ('acetate', 'NOUN'), ('fibers', 'NOUN'), ('and', 'CONJ'), ('mechanically', 'ADV'), ('mixed', 'VERB'), ('the', 'DET'), ('dry', 'ADJ'), ('fibers', 'NOUN'), ('in', 'ADP'), ('a', 'DET'), ('process', 'NOUN'), ('used', 'VERB'), ('*', 'X'), ('*', 'X'), ('to', 'PRT'), ('make', 'VERB'), ('filters', 'NOUN'), ('.', '.')], [('Workers', 'NOUN'), ('described', 'VERB'), ('``', '.'), ('clouds', 'NOUN'), ('of', 'ADP'), ('blue', 'ADJ'), ('dust', 'NOUN'), (\"''\", '.'), ('that', 'DET'), ('*T*-1', 'X'), ('hung', 'VERB'), ('over', 'ADP'), ('parts', 'NOUN'), ('of', 'ADP'), ('the', 'DET'), ('factory', 'NOUN'), (',', '.'), ('even', 'ADV'), ('though', 'ADP'), ('exhaust', 'NOUN'), ('fans', 'NOUN'), ('ventilated', 'VERB'), ('the', 'DET'), ('area', 'NOUN'), ('.', '.')], [('``', '.'), ('There', 'DET'), (\"'s\", 'VERB'), ('no', 'DET'), ('question', 'NOUN'), ('that', 'ADP'), ('some', 'DET'), ('of', 'ADP'), ('those', 'DET'), ('workers', 'NOUN'), ('and', 'CONJ'), ('managers', 'NOUN'), ('contracted', 'VERB'), ('asbestos-related', 'ADJ'), ('diseases', 'NOUN'), (',', '.'), (\"''\", '.'), ('said', 'VERB'), ('*T*-1', 'X'), ('Darrell', 'NOUN'), ('Phillips', 'NOUN'), (',', '.'), ('vice', 'NOUN'), ('president', 'NOUN'), ('of', 'ADP'), ('human', 'ADJ'), ('resources', 'NOUN'), ('for', 'ADP'), ('Hollingsworth', 'NOUN'), ('&', 'CONJ'), ('Vose', 'NOUN'), ('.', '.')], [('``', '.'), ('But', 'CONJ'), ('you', 'PRON'), ('have', 'VERB'), ('*-1', 'X'), ('to', 'PRT'), ('recognize', 'VERB'), ('that', 'ADP'), ('these', 'DET'), ('events', 'NOUN'), ('took', 'VERB'), ('place', 'NOUN'), ('35', 'NUM'), ('years', 'NOUN'), ('ago', 'ADP'), ('.', '.')], [('It', 'PRON'), ('has', 'VERB'), ('no', 'DET'), ('bearing', 'NOUN'), ('on', 'ADP'), ('our', 'PRON'), ('work', 'NOUN'), ('force', 'NOUN'), ('today', 'NOUN'), ('.', '.')], [('Yields', 'NOUN'), ('on', 'ADP'), ('money-market', 'ADJ'), ('mutual', 'ADJ'), ('funds', 'NOUN'), ('continued', 'VERB'), ('*-1', 'X'), ('to', 'PRT'), ('slide', 'VERB'), (',', '.'), ('amid', 'ADP'), ('signs', 'NOUN'), ('that', 'ADP'), ('portfolio', 'NOUN'), ('managers', 'NOUN'), ('expect', 'VERB'), ('further', 'ADJ'), ('declines', 'NOUN'), ('in', 'ADP'), ('interest', 'NOUN'), ('rates', 'NOUN'), ('.', '.')], [('The', 'DET'), ('average', 'ADJ'), ('seven-day', 'ADJ'), ('compound', 'NOUN'), ('yield', 'NOUN'), ('of', 'ADP'), ('the', 'DET'), ('400', 'NUM'), ('taxable', 'ADJ'), ('funds', 'NOUN'), ('tracked', 'VERB'), ('*', 'X'), ('by', 'ADP'), ('IBC', 'NOUN'), (\"'s\", 'PRT'), ('Money', 'NOUN'), ('Fund', 'NOUN'), ('Report', 'NOUN'), ('eased', 'VERB'), ('a', 'DET'), ('fraction', 'NOUN'), ('of', 'ADP'), ('a', 'DET'), ('percentage', 'NOUN'), ('point', 'NOUN'), ('to', 'PRT'), ('8.45', 'NUM'), ('%', 'NOUN'), ('from', 'ADP'), ('8.47', 'NUM'), ('%', 'NOUN'), ('for', 'ADP'), ('the', 'DET'), ('week', 'NOUN'), ('ended', 'VERB'), ('Tuesday', 'NOUN'), ('.', '.')], [('Compound', 'NOUN'), ('yields', 'NOUN'), ('assume', 'VERB'), ('reinvestment', 'NOUN'), ('of', 'ADP'), ('dividends', 'NOUN'), ('and', 'CONJ'), ('that', 'ADP'), ('the', 'DET'), ('current', 'ADJ'), ('yield', 'NOUN'), ('continues', 'VERB'), ('for', 'ADP'), ('a', 'DET'), ('year', 'NOUN'), ('.', '.')], [('Average', 'ADJ'), ('maturity', 'NOUN'), ('of', 'ADP'), ('the', 'DET'), ('funds', 'NOUN'), (\"'\", 'PRT'), ('investments', 'NOUN'), ('lengthened', 'VERB'), ('by', 'ADP'), ('a', 'DET'), ('day', 'NOUN'), ('to', 'PRT'), ('41', 'NUM'), ('days', 'NOUN'), (',', '.'), ('the', 'DET'), ('longest', 'ADJ'), ('since', 'ADP'), ('early', 'ADJ'), ('August', 'NOUN'), (',', '.'), ('according', 'VERB'), ('to', 'PRT'), ('Donoghue', 'NOUN'), (\"'s\", 'PRT'), ('.', '.')], [('Longer', 'ADJ'), ('maturities', 'NOUN'), ('are', 'VERB'), ('thought', 'VERB'), ('*-1', 'X'), ('to', 'PRT'), ('indicate', 'VERB'), ('declining', 'VERB'), ('interest', 'NOUN'), ('rates', 'NOUN'), ('because', 'ADP'), ('they', 'PRON'), ('permit', 'VERB'), ('portfolio', 'NOUN'), ('managers', 'NOUN'), ('to', 'PRT'), ('retain', 'VERB'), ('relatively', 'ADV'), ('higher', 'ADJ'), ('rates', 'NOUN'), ('for', 'ADP'), ('a', 'DET'), ('longer', 'ADJ'), ('period', 'NOUN'), ('.', '.')], [('Shorter', 'ADJ'), ('maturities', 'NOUN'), ('are', 'VERB'), ('considered', 'VERB'), ('*-9', 'X'), ('a', 'DET'), ('sign', 'NOUN'), ('of', 'ADP'), ('rising', 'VERB'), ('rates', 'NOUN'), ('because', 'ADP'), ('portfolio', 'NOUN'), ('managers', 'NOUN'), ('can', 'VERB'), ('capture', 'VERB'), ('higher', 'ADJ'), ('rates', 'NOUN'), ('sooner', 'ADV'), ('.', '.')], [('The', 'DET'), ('average', 'ADJ'), ('maturity', 'NOUN'), ('for', 'ADP'), ('funds', 'NOUN'), ('open', 'ADJ'), ('only', 'ADV'), ('to', 'PRT'), ('institutions', 'NOUN'), (',', '.'), ('considered', 'VERB'), ('by', 'ADP'), ('some', 'DET'), ('*', 'X'), ('to', 'PRT'), ('be', 'VERB'), ('a', 'DET'), ('stronger', 'ADJ'), ('indicator', 'NOUN'), ('because', 'ADP'), ('those', 'DET'), ('managers', 'NOUN'), ('watch', 'VERB'), ('the', 'DET'), ('market', 'NOUN'), ('closely', 'ADV'), (',', '.'), ('reached', 'VERB'), ('a', 'DET'), ('high', 'ADJ'), ('point', 'NOUN'), ('for', 'ADP'), ('the', 'DET'), ('year', 'NOUN'), ('--', '.'), ('33', 'NUM'), ('days', 'NOUN'), ('.', '.')], [('Nevertheless', 'ADV'), (',', '.'), ('said', 'VERB'), ('*T*-1', 'X'), ('Brenda', 'NOUN'), ('Malizia', 'NOUN'), ('Negus', 'NOUN'), (',', '.'), ('editor', 'NOUN'), ('of', 'ADP'), ('Money', 'NOUN'), ('Fund', 'NOUN'), ('Report', 'NOUN'), (',', '.'), ('yields', 'NOUN'), ('``', '.'), ('may', 'VERB'), ('blip', 'VERB'), ('up', 'PRT'), ('again', 'ADV'), ('before', 'ADP'), ('they', 'PRON'), ('blip', 'VERB'), ('down', 'PRT'), (\"''\", '.'), ('because', 'ADP'), ('of', 'ADP'), ('recent', 'ADJ'), ('rises', 'NOUN'), ('in', 'ADP'), ('short-term', 'ADJ'), ('interest', 'NOUN'), ('rates', 'NOUN'), ('.', '.')], [('The', 'DET'), ('yield', 'NOUN'), ('on', 'ADP'), ('six-month', 'ADJ'), ('Treasury', 'NOUN'), ('bills', 'NOUN'), ('sold', 'VERB'), ('*', 'X'), ('at', 'ADP'), ('Monday', 'NOUN'), (\"'s\", 'PRT'), ('auction', 'NOUN'), (',', '.'), ('for', 'ADP'), ('example', 'NOUN'), (',', '.'), ('rose', 'VERB'), ('to', 'PRT'), ('8.04', 'NUM'), ('%', 'NOUN'), ('from', 'ADP'), ('7.90', 'NUM'), ('%', 'NOUN'), ('.', '.')], [('Despite', 'ADP'), ('recent', 'ADJ'), ('declines', 'NOUN'), ('in', 'ADP'), ('yields', 'NOUN'), (',', '.'), ('investors', 'NOUN'), ('continue', 'VERB'), ('*-1', 'X'), ('to', 'PRT'), ('pour', 'VERB'), ('cash', 'NOUN'), ('into', 'ADP'), ('money', 'NOUN'), ('funds', 'NOUN'), ('.', '.')], [('Assets', 'NOUN'), ('of', 'ADP'), ('the', 'DET'), ('400', 'NUM'), ('taxable', 'ADJ'), ('funds', 'NOUN'), ('grew', 'VERB'), ('by', 'ADP'), ('$', '.'), ('1.5', 'NUM'), ('billion', 'NUM'), ('*U*', 'X'), ('during', 'ADP'), ('the', 'DET'), ('latest', 'ADJ'), ('week', 'NOUN'), (',', '.'), ('to', 'PRT'), ('$', '.'), ('352.7', 'NUM'), ('billion', 'NUM'), ('*U*', 'X'), ('.', '.')], [('Typically', 'ADV'), (',', '.'), ('money-fund', 'NOUN'), ('yields', 'NOUN'), ('beat', 'VERB'), ('comparable', 'ADJ'), ('short-term', 'ADJ'), ('investments', 'NOUN'), ('because', 'ADP'), ('portfolio', 'NOUN'), ('managers', 'NOUN'), ('can', 'VERB'), ('vary', 'VERB'), ('maturities', 'NOUN'), ('and', 'CONJ'), ('go', 'VERB'), ('after', 'ADP'), ('the', 'DET'), ('highest', 'ADJ'), ('rates', 'NOUN'), ('.', '.')], [('The', 'DET'), ('top', 'ADJ'), ('money', 'NOUN'), ('funds', 'NOUN'), ('are', 'VERB'), ('currently', 'ADV'), ('yielding', 'VERB'), ('well', 'ADV'), ('over', 'ADP'), ('9', 'NUM'), ('%', 'NOUN'), ('.', '.')], [('Dreyfus', 'NOUN'), ('World-Wide', 'NOUN'), ('Dollar', 'NOUN'), (',', '.'), ('the', 'DET'), ('top-yielding', 'ADJ'), ('fund', 'NOUN'), (',', '.'), ('had', 'VERB'), ('a', 'DET'), ('seven-day', 'ADJ'), ('compound', 'NOUN'), ('yield', 'NOUN'), ('of', 'ADP'), ('9.37', 'NUM'), ('%', 'NOUN'), ('during', 'ADP'), ('the', 'DET'), ('latest', 'ADJ'), ('week', 'NOUN'), (',', '.'), ('down', 'ADV'), ('from', 'ADP'), ('9.45', 'NUM'), ('%', 'NOUN'), ('a', 'DET'), ('week', 'NOUN'), ('earlier', 'ADJ'), ('.', '.')], [('It', 'PRON'), ('invests', 'VERB'), ('heavily', 'ADV'), ('in', 'ADP'), ('dollar-denominated', 'ADJ'), ('securities', 'NOUN'), ('overseas', 'ADV'), ('and', 'CONJ'), ('is', 'VERB'), ('currently', 'ADV'), ('waiving', 'VERB'), ('management', 'NOUN'), ('fees', 'NOUN'), (',', '.'), ('which', 'DET'), ('*T*-9', 'X'), ('boosts', 'VERB'), ('its', 'PRON'), ('yield', 'NOUN'), ('.', '.')], [('The', 'DET'), ('average', 'ADJ'), ('seven-day', 'ADJ'), ('simple', 'ADJ'), ('yield', 'NOUN'), ('of', 'ADP'), ('the', 'DET'), ('400', 'NUM'), ('funds', 'NOUN'), ('was', 'VERB'), ('8.12', 'NUM'), ('%', 'NOUN'), (',', '.'), ('down', 'ADV'), ('from', 'ADP'), ('8.14', 'NUM'), ('%', 'NOUN'), ('.', '.')], [('The', 'DET'), ('30-day', 'ADJ'), ('simple', 'ADJ'), ('yield', 'NOUN'), ('fell', 'VERB'), ('to', 'PRT'), ('an', 'DET'), ('average', 'ADJ'), ('8.19', 'NUM'), ('%', 'NOUN'), ('from', 'ADP'), ('8.22', 'NUM'), ('%', 'NOUN'), (';', '.'), ('the', 'DET'), ('30-day', 'ADJ'), ('compound', 'NOUN'), ('yield', 'NOUN'), ('slid', 'VERB'), ('to', 'PRT'), ('an', 'DET'), ('average', 'ADJ'), ('8.53', 'NUM'), ('%', 'NOUN'), ('from', 'ADP'), ('8.56', 'NUM'), ('%', 'NOUN'), ('.', '.')]]\n"
     ]
    }
   ],
   "source": [
    "#print first few tagged sentences\n",
    "print(nltk_data[:50])"
   ]
  },
  {
   "cell_type": "markdown",
   "metadata": {},
   "source": [
    "### Build the vanilla Viterbi based POS tagger"
   ]
  },
  {
   "cell_type": "code",
   "execution_count": 51,
   "metadata": {},
   "outputs": [
    {
     "name": "stdout",
     "output_type": "stream",
     "text": [
      "3718\n",
      "196\n",
      "[[('Several', 'ADJ'), ('traders', 'NOUN'), ('maintained', 'VERB'), ('that', 'ADP'), ('the', 'DET'), ('Merc', 'NOUN'), (\"'s\", 'PRT'), ('12-point', 'ADJ'), ('circuit-breaker', 'NOUN'), ('aggravated', 'VERB'), ('the', 'DET'), ('market', 'NOUN'), ('slide', 'NOUN'), ('Oct.', 'NOUN'), ('13', 'NUM'), ('by', 'ADP'), ('*-1', 'X'), ('directing', 'VERB'), ('additional', 'ADJ'), ('selling', 'VERB'), ('pressure', 'NOUN'), ('to', 'PRT'), ('the', 'DET'), ('floor', 'NOUN'), ('of', 'ADP'), ('the', 'DET'), ('New', 'NOUN'), ('York', 'NOUN'), ('Stock', 'NOUN'), ('Exchange', 'NOUN'), ('.', '.')], [('The', 'DET'), ('remaining', 'VERB'), ('$', '.'), ('21.9', 'NUM'), ('billion', 'NUM'), ('*U*', 'X'), ('could', 'VERB'), ('be', 'VERB'), ('raised', 'VERB'), ('*-111', 'X'), ('through', 'ADP'), ('the', 'DET'), ('sale', 'NOUN'), ('of', 'ADP'), ('short-term', 'ADJ'), ('Treasury', 'NOUN'), ('bills', 'NOUN'), (',', '.'), ('two-year', 'ADJ'), ('notes', 'NOUN'), ('in', 'ADP'), ('November', 'NOUN'), ('and', 'CONJ'), ('five-year', 'ADJ'), ('notes', 'NOUN'), ('in', 'ADP'), ('early', 'ADJ'), ('December', 'NOUN'), (',', '.'), ('the', 'DET'), ('Treasury', 'NOUN'), ('said', 'VERB'), ('0', 'X'), ('*T*-1', 'X'), ('.', '.')], [('Supportive', 'ADJ'), ('callers', 'NOUN'), ('decried', 'VERB'), ('unfair', 'ADJ'), ('testing', 'NOUN'), (',', '.'), ('not', 'ADV'), ('Mrs.', 'NOUN'), ('Yeargin', 'NOUN'), (',', '.'), ('on', 'ADP'), ('a', 'DET'), ('local', 'ADJ'), ('radio', 'NOUN'), ('talk', 'NOUN'), ('show', 'NOUN'), ('on', 'ADP'), ('which', 'DET'), ('she', 'PRON'), ('appeared', 'VERB'), ('*T*-1', 'X'), ('.', '.')], [('A', 'DET'), ('spokesman', 'NOUN'), ('for', 'ADP'), ('Visa', 'NOUN'), ('International', 'NOUN'), (\"'s\", 'PRT'), ('U.S.', 'NOUN'), ('subsidiary', 'NOUN'), ('says', 'VERB'), ('0', 'X'), ('his', 'PRON'), ('company', 'NOUN'), ('is', 'VERB'), ('using', 'VERB'), ('promotions', 'NOUN'), ('*-1', 'X'), ('to', 'PRT'), ('increase', 'VERB'), ('use', 'NOUN'), ('of', 'ADP'), ('its', 'PRON'), ('cards', 'NOUN'), (',', '.'), ('but', 'CONJ'), ('does', 'VERB'), (\"n't\", 'ADV'), ('have', 'VERB'), ('plans', 'NOUN'), ('for', 'ADP'), ('a', 'DET'), ('tie-in', 'NOUN'), ('similar', 'ADJ'), ('to', 'PRT'), ('the', 'DET'), ('American', 'NOUN'), ('Express-Buick', 'NOUN'), ('link', 'NOUN'), ('.', '.')], [('Another', 'DET'), ('small', 'ADJ'), ('Burgundy', 'NOUN'), ('estate', 'NOUN'), (',', '.'), ('Coche-Dury', 'NOUN'), (',', '.'), ('has', 'VERB'), ('just', 'ADV'), ('offered', 'VERB'), ('its', 'PRON'), ('1987', 'NUM'), ('Corton-Charlemagne', 'NOUN'), ('for', 'ADP'), ('$', '.'), ('155', 'NUM'), ('*U*', 'X'), ('.', '.')], [('Deregulation', 'NOUN'), ('has', 'VERB'), ('effectively', 'ADV'), ('removed', 'VERB'), ('all', 'DET'), ('restrictions', 'NOUN'), ('on', 'ADP'), ('what', 'PRON'), ('banks', 'NOUN'), ('can', 'VERB'), ('pay', 'VERB'), ('*T*-201', 'X'), ('for', 'ADP'), ('deposits', 'NOUN'), (',', '.'), ('as', 'ADV'), ('well', 'ADV'), ('as', 'ADP'), ('opened', 'VERB'), ('up', 'PRT'), ('the', 'DET'), ('field', 'NOUN'), ('for', 'ADP'), ('new', 'ADJ'), ('products', 'NOUN'), ('such', 'ADJ'), ('as', 'ADP'), ('high-rate', 'ADJ'), ('CDs', 'NOUN'), ('.', '.')], [('*', 'X'), ('Adopting', 'VERB'), ('a', 'DET'), ('training-wage', 'ADJ'), ('policy', 'NOUN'), ('means', 'VERB'), ('``', '.'), ('*', 'X'), ('getting', 'VERB'), ('beyond', 'ADP'), ('the', 'DET'), ('nickel', 'NOUN'), ('and', 'CONJ'), ('diming', 'NOUN'), ('of', 'ADP'), ('the', 'DET'), ('minimum', 'ADJ'), ('wage', 'NOUN'), (',', '.'), (\"''\", '.'), ('Mrs.', 'NOUN'), ('Roukema', 'NOUN'), ('said', 'VERB'), ('0', 'X'), ('*T*-1', 'X'), ('.', '.')], [('The', 'DET'), ('sad', 'ADJ'), ('reality', 'NOUN'), ('is', 'VERB'), ('that', 'ADP'), ('the', 'DET'), ('retail', 'ADJ'), ('investor', 'NOUN'), ('continues', 'VERB'), ('*-1', 'X'), ('to', 'PRT'), ('pursue', 'VERB'), ('stellar', 'ADJ'), ('performers', 'NOUN'), ('first', 'ADV'), (',', '.'), ('while', 'ADP'), ('*-2', 'X'), ('leaving', 'VERB'), ('institutions', 'NOUN'), ('to', 'PRT'), ('grapple', 'VERB'), ('with', 'ADP'), ('basis', 'NOUN'), ('points', 'NOUN'), ('of', 'ADP'), ('performance', 'NOUN'), ('on', 'ADP'), ('large', 'ADJ'), ('sums', 'NOUN'), ('of', 'ADP'), ('money', 'NOUN'), ('quarter', 'NOUN'), ('by', 'ADP'), ('quarter', 'NOUN'), ('*PPA*-3', 'X'), ('.', '.')], [('Sales', 'NOUN'), ('in', 'ADP'), ('the', 'DET'), ('latest', 'ADJ'), ('period', 'NOUN'), ('were', 'VERB'), ('$', '.'), ('1.76', 'NUM'), ('billion', 'NUM'), ('*U*', 'X'), (',', '.'), ('a', 'DET'), ('13', 'NUM'), ('%', 'NOUN'), ('increase', 'NOUN'), ('from', 'ADP'), ('last', 'ADJ'), ('year', 'NOUN'), (\"'s\", 'PRT'), ('$', '.'), ('1.55', 'NUM'), ('billion', 'NUM'), ('*U*', 'X'), ('.', '.')], [('``', '.'), ('When', 'ADV'), ('scientific', 'ADJ'), ('progress', 'NOUN'), ('moves', 'VERB'), ('into', 'ADP'), ('uncharted', 'ADJ'), ('ground', 'NOUN'), ('*T*-1', 'X'), (',', '.'), ('there', 'DET'), ('has', 'VERB'), ('*-3', 'X'), ('to', 'PRT'), ('be', 'VERB'), ('a', 'DET'), ('role', 'NOUN'), ('*ICH*-4', 'X'), ('for', 'ADP'), ('society', 'NOUN'), ('*', 'X'), ('to', 'PRT'), ('make', 'VERB'), ('judgments', 'NOUN'), ('about', 'ADP'), ('its', 'PRON'), ('applications', 'NOUN'), (',', '.'), (\"''\", '.'), ('says', 'VERB'), ('*T*-2', 'X'), ('Myron', 'NOUN'), ('Genel', 'NOUN'), (',', '.'), ('associate', 'NOUN'), ('dean', 'NOUN'), ('of', 'ADP'), ('the', 'DET'), ('Yale', 'NOUN'), ('Medical', 'NOUN'), ('School', 'NOUN'), ('.', '.')], [('Mr.', 'NOUN'), ('Egnuss', 'NOUN'), (\"'s\", 'PRT'), ('dislike', 'NOUN'), ('of', 'ADP'), ('program', 'NOUN'), ('trading', 'NOUN'), ('is', 'VERB'), ('echoed', 'VERB'), ('*-1', 'X'), ('by', 'ADP'), ('many', 'ADJ'), ('small', 'ADJ'), ('investors', 'NOUN'), ('interviewed', 'VERB'), ('*', 'X'), ('by', 'ADP'), ('Wall', 'NOUN'), ('Street', 'NOUN'), ('Journal', 'NOUN'), ('reporters', 'NOUN'), ('across', 'ADP'), ('the', 'DET'), ('country', 'NOUN'), ('.', '.')], [('Under', 'ADP'), ('the', 'DET'), ('state', 'NOUN'), (\"'s\", 'PRT'), ('Education', 'NOUN'), ('Improvement', 'NOUN'), ('Act', 'NOUN'), (',', '.'), ('low', 'ADJ'), ('test', 'NOUN'), ('scores', 'NOUN'), ('can', 'VERB'), ('block', 'VERB'), ('students', 'NOUN'), (\"'\", 'PRT'), ('promotions', 'NOUN'), ('or', 'CONJ'), ('force', 'VERB'), ('entire', 'ADJ'), ('districts', 'NOUN'), ('into', 'ADP'), ('wrenching', 'ADJ'), (',', '.'), ('state-supervised', 'ADJ'), ('``', '.'), ('interventions', 'NOUN'), (\"''\", '.'), ('that', 'DET'), ('*T*-86', 'X'), ('can', 'VERB'), ('mean', 'VERB'), ('firings', 'NOUN'), ('.', '.')], [('The', 'DET'), ('December', 'NOUN'), ('contract', 'NOUN'), ('rose', 'VERB'), ('1.20', 'NUM'), ('cents', 'NOUN'), ('a', 'DET'), ('pound', 'NOUN'), ('to', 'PRT'), ('$', '.'), ('1.14', 'NUM'), ('*U*', 'X'), ('.', '.')], [('The', 'DET'), ('newest', 'ADJ'), ('breed', 'NOUN'), (',', '.'), ('also', 'ADV'), ('called', 'VERB'), ('*', 'X'), ('``', '.'), ('rocket', 'NOUN'), ('scientists', 'NOUN'), (\"''\", '.'), ('because', 'ADP'), ('of', 'ADP'), ('their', 'PRON'), ('backgrounds', 'NOUN'), ('in', 'ADP'), ('physics', 'NOUN'), ('and', 'CONJ'), ('mathematics', 'NOUN'), (',', '.'), ('devise', 'VERB'), ('the', 'DET'), ('complex', 'NOUN'), ('hedging', 'NOUN'), ('and', 'CONJ'), ('trading', 'NOUN'), ('strategies', 'NOUN'), ('that', 'DET'), ('*T*-1', 'X'), ('are', 'VERB'), ('popularly', 'ADV'), ('known', 'VERB'), ('*-2', 'X'), ('as', 'ADP'), ('program', 'NOUN'), ('trading', 'NOUN'), ('.', '.')], [('A.L.', 'NOUN'), ('Williams', 'NOUN'), ('Corp.', 'NOUN'), ('was', 'VERB'), ('merged', 'VERB'), ('*-1', 'X'), ('into', 'ADP'), ('Primerica', 'NOUN'), ('Corp.', 'NOUN'), (',', '.'), ('New', 'NOUN'), ('York', 'NOUN'), (',', '.'), ('after', 'ADP'), ('a', 'DET'), ('special', 'ADJ'), ('meeting', 'NOUN'), ('of', 'ADP'), ('Williams', 'NOUN'), ('shareholders', 'NOUN'), ('cleared', 'VERB'), ('the', 'DET'), ('transaction', 'NOUN'), (',', '.'), ('the', 'DET'), ('companies', 'NOUN'), ('said', 'VERB'), ('0', 'X'), ('*T*-2', 'X'), ('.', '.')], [('After', 'ADP'), ('the', 'DET'), ('race', 'NOUN'), (',', '.'), ('Fortune', 'NOUN'), ('500', 'NUM'), ('executives', 'NOUN'), ('drooled', 'VERB'), ('like', 'ADP'), ('schoolboys', 'NOUN'), ('over', 'ADP'), ('the', 'DET'), ('cars', 'NOUN'), ('and', 'CONJ'), ('drivers', 'NOUN'), ('.', '.')], [('Officials', 'NOUN'), ('of', 'ADP'), ('Triton', 'NOUN'), ('could', 'VERB'), (\"n't\", 'ADV'), ('be', 'VERB'), ('reached', 'VERB'), ('*-157', 'X'), ('for', 'ADP'), ('comment', 'NOUN'), ('.', '.')], [(\"Dunkin'\", 'NOUN'), ('has', 'VERB'), ('set', 'VERB'), ('Nov.', 'NOUN'), ('10', 'NUM'), ('as', 'ADP'), ('the', 'DET'), ('deadline', 'NOUN'), ('for', 'ADP'), ('the', 'DET'), ('receipt', 'NOUN'), ('of', 'ADP'), ('any', 'DET'), ('competing', 'VERB'), ('bids', 'NOUN'), ('.', '.')], [('About', 'ADP'), ('20,000', 'NUM'), ('sets', 'NOUN'), ('of', 'ADP'), ('Learning', 'NOUN'), ('Materials', 'NOUN'), ('teachers', 'NOUN'), (\"'\", 'PRT'), ('binders', 'NOUN'), ('have', 'VERB'), ('also', 'ADV'), ('been', 'VERB'), ('sold', 'VERB'), ('*-1', 'X'), ('in', 'ADP'), ('the', 'DET'), ('past', 'ADJ'), ('four', 'NUM'), ('years', 'NOUN'), ('.', '.')], [('*-1', 'X'), ('To', 'PRT'), ('profit', 'VERB'), ('from', 'ADP'), ('an', 'DET'), ('index-arbitrage', 'ADJ'), ('opportunity', 'NOUN'), (',', '.'), ('someone', 'NOUN'), ('who', 'PRON'), ('*T*-75', 'X'), ('owns', 'VERB'), ('the', 'DET'), ('S&P', 'NOUN'), ('500', 'NUM'), ('widget', 'NOUN'), ('in', 'ADP'), ('New', 'NOUN'), ('York', 'NOUN'), ('must', 'VERB'), ('sell', 'VERB'), ('it', 'PRON'), ('and', 'CONJ'), ('replace', 'VERB'), ('it', 'PRON'), ('with', 'ADP'), ('a', 'DET'), ('cheaper', 'ADJ'), ('S&P', 'NOUN'), ('500', 'NUM'), ('widget', 'NOUN'), ('in', 'ADP'), ('Chicago', 'NOUN'), ('.', '.')], [('The', 'DET'), ('speed', 'NOUN'), ('of', 'ADP'), ('his', 'PRON'), ('transaction', 'NOUN'), ('is', 'VERB'), (\"n't\", 'ADV'), ('*-1', 'X'), ('to', 'PRT'), ('be', 'VERB'), ('feared', 'VERB'), ('*-79', 'X'), ('either', 'ADV'), (',', '.'), ('because', 'ADP'), ('faster', 'ADJ'), ('and', 'CONJ'), ('cleaner', 'ADJ'), ('execution', 'NOUN'), ('is', 'VERB'), ('desirable', 'ADJ'), (',', '.'), ('not', 'ADV'), ('loathsome', 'ADJ'), ('.', '.')], [('The', 'DET'), ('government', 'NOUN'), (\"'s\", 'PRT'), ('borrowing', 'NOUN'), ('authority', 'NOUN'), ('dropped', 'VERB'), ('at', 'ADP'), ('midnight', 'NOUN'), ('Tuesday', 'NOUN'), ('to', 'PRT'), ('$', '.'), ('2.80', 'NUM'), ('trillion', 'NUM'), ('*U*', 'X'), ('from', 'ADP'), ('$', '.'), ('2.87', 'NUM'), ('trillion', 'NUM'), ('*U*', 'X'), ('.', '.')], [('Mr.', 'NOUN'), ('Driscoll', 'NOUN'), ('did', 'VERB'), (\"n't\", 'ADV'), ('elaborate', 'ADJ'), ('about', 'ADP'), ('who', 'PRON'), ('the', 'DET'), ('potential', 'ADJ'), ('partners', 'NOUN'), ('were', 'VERB'), ('*T*-1', 'X'), ('or', 'CONJ'), ('when', 'ADV'), ('the', 'DET'), ('talks', 'NOUN'), ('were', 'VERB'), ('held', 'VERB'), ('*-94', 'X'), ('*T*-2', 'X'), ('.', '.')], [('Allergan', 'NOUN'), ('Inc.', 'NOUN'), ('said', 'VERB'), ('0', 'X'), ('it', 'PRON'), ('received', 'VERB'), ('Food', 'NOUN'), ('and', 'CONJ'), ('Drug', 'NOUN'), ('Administration', 'NOUN'), ('approval', 'NOUN'), ('*', 'X'), ('to', 'PRT'), ('sell', 'VERB'), ('the', 'DET'), ('PhacoFlex', 'NOUN'), ('intraocular', 'ADJ'), ('lens', 'NOUN'), (',', '.'), ('the', 'DET'), ('first', 'ADJ'), ('foldable', 'ADJ'), ('silicone', 'NOUN'), ('lens', 'NOUN'), ('available', 'ADJ'), ('for', 'ADP'), ('cataract', 'NOUN'), ('surgery', 'NOUN'), ('.', '.')], [('The', 'DET'), ('company', 'NOUN'), ('added', 'VERB'), ('that', 'ADP'), ('it', 'PRON'), ('has', 'VERB'), ('filed', 'VERB'), ('patent', 'NOUN'), ('applications', 'NOUN'), ('``', '.'), ('on', 'ADP'), ('a', 'DET'), ('large', 'ADJ'), ('number', 'NOUN'), ('of', 'ADP'), ('different', 'ADJ'), ('BMP', 'NOUN'), ('proteins', 'NOUN'), (\"''\", '.'), ('and', 'CONJ'), ('the', 'DET'), ('patent', 'NOUN'), ('on', 'ADP'), ('BMP-1', 'NOUN'), ('is', 'VERB'), ('the', 'DET'), ('first', 'ADJ'), ('0', 'X'), ('it', 'PRON'), ('has', 'VERB'), ('received', 'VERB'), ('*T*-1', 'X'), ('.', '.')], [('In', 'ADP'), ('a', 'DET'), ('competitive', 'ADJ'), ('market', 'NOUN'), (',', '.'), ('this', 'DET'), ('investor', 'NOUN'), ('has', 'VERB'), ('many', 'ADJ'), ('ways', 'NOUN'), ('0', 'X'), ('*', 'X'), ('to', 'PRT'), ('execute', 'VERB'), ('his', 'PRON'), ('transactions', 'NOUN'), ('*T*-1', 'X'), (',', '.'), ('and', 'CONJ'), ('he', 'PRON'), ('will', 'VERB'), ('have', 'VERB'), ('more', 'ADJ'), ('alternatives', 'NOUN'), ('-LRB-', '.'), ('both', 'DET'), ('foreign', 'ADJ'), ('and', 'CONJ'), ('domestic', 'ADJ'), ('-RRB-', '.'), ('if', 'ADP'), ('his', 'PRON'), ('volume', 'NOUN'), ('is', 'VERB'), ('profitable', 'ADJ'), ('0', 'X'), ('for', 'ADP'), ('an', 'DET'), ('exchange', 'NOUN'), ('to', 'PRT'), ('handle', 'VERB'), ('*T*-2', 'X'), ('.', '.')], [('Bonds', 'NOUN'), ('due', 'ADJ'), ('in', 'ADP'), ('2005', 'NUM'), ('have', 'VERB'), ('a', 'DET'), ('7', 'NUM'), ('1\\\\/2', 'NUM'), ('%', 'NOUN'), ('coupon', 'NOUN'), ('and', 'CONJ'), ('are', 'VERB'), ('priced', 'VERB'), ('*-1', 'X'), ('at', 'ADP'), ('par', 'NOUN'), ('.', '.')], [('Japan', 'NOUN'), (\"'s\", 'PRT'), ('swelling', 'VERB'), ('investment', 'NOUN'), ('in', 'ADP'), ('Southeast', 'NOUN'), ('Asia', 'NOUN'), ('is', 'VERB'), ('part', 'NOUN'), ('of', 'ADP'), ('its', 'PRON'), ('economic', 'ADJ'), ('evolution', 'NOUN'), ('.', '.')], [('Mr.', 'NOUN'), ('McGovern', 'NOUN'), ('himself', 'PRON'), ('had', 'VERB'), ('said', 'VERB'), ('repeatedly', 'ADV'), ('that', 'ADP'), ('he', 'PRON'), ('intended', 'VERB'), ('*-1', 'X'), ('to', 'PRT'), ('stay', 'VERB'), ('on', 'PRT'), ('until', 'ADP'), ('he', 'PRON'), ('reached', 'VERB'), ('the', 'DET'), ('conventional', 'ADJ'), ('retirement', 'NOUN'), ('age', 'NOUN'), ('of', 'ADP'), ('65', 'NUM'), ('in', 'ADP'), ('October', 'NOUN'), ('1991', 'NUM'), (',', '.'), ('``', '.'), ('unless', 'ADP'), ('I', 'PRON'), ('get', 'VERB'), ('fired', 'VERB'), ('.', '.'), (\"''\", '.')], [('Mr.', 'NOUN'), ('Riese', 'NOUN'), ('says', 'VERB'), ('0', 'X'), ('American', 'NOUN'), ('Express', 'NOUN'), ('considers', 'VERB'), ('GM', 'NOUN'), ('and', 'CONJ'), ('Buick', 'NOUN'), ('``', '.'), ('very', 'ADV'), ('sophisticated', 'ADJ'), ('direct-mail', 'ADJ'), ('marketers', 'NOUN'), (',', '.'), (\"''\", '.'), ('so', 'ADP'), ('``', '.'), ('by', 'ADP'), ('*-1', 'X'), ('joining', 'VERB'), ('forces', 'NOUN'), ('with', 'ADP'), ('them', 'PRON'), ('we', 'PRON'), ('have', 'VERB'), ('managed', 'VERB'), ('*-1', 'X'), ('to', 'PRT'), ('maximize', 'VERB'), ('our', 'PRON'), ('direct-mail', 'ADJ'), ('capability', 'NOUN'), ('.', '.'), (\"''\", '.')], [('They', 'PRON'), ('belong', 'VERB'), ('to', 'PRT'), ('a', 'DET'), ('group', 'NOUN'), ('of', 'ADP'), ('15', 'NUM'), ('ringers', 'NOUN'), ('--', '.'), ('including', 'VERB'), ('two', 'NUM'), ('octogenarians', 'NOUN'), ('and', 'CONJ'), ('four', 'NUM'), ('youngsters', 'NOUN'), ('in', 'ADP'), ('training', 'NOUN'), ('--', '.'), ('who', 'PRON'), ('*T*-222', 'X'), ('drive', 'VERB'), ('every', 'DET'), ('Sunday', 'NOUN'), ('from', 'ADP'), ('church', 'NOUN'), ('to', 'PRT'), ('church', 'NOUN'), ('in', 'ADP'), ('a', 'DET'), ('sometimes-exhausting', 'ADJ'), ('effort', 'NOUN'), ('*', 'X'), ('to', 'PRT'), ('keep', 'VERB'), ('the', 'DET'), ('bells', 'NOUN'), ('sounding', 'VERB'), ('in', 'ADP'), ('the', 'DET'), ('many', 'ADJ'), ('belfries', 'NOUN'), ('of', 'ADP'), ('East', 'NOUN'), ('Anglia', 'NOUN'), ('.', '.')], [('``', '.'), ('It', 'PRON'), (\"'s\", 'VERB'), ('not', 'ADV'), ('a', 'DET'), ('very', 'ADV'), ('meaningful', 'ADJ'), ('indicator', 'NOUN'), ('currently', 'ADV'), ('because', 'ADP'), ('corporations', 'NOUN'), ('are', 'VERB'), ('not', 'ADV'), ('behaving', 'VERB'), ('in', 'ADP'), ('a', 'DET'), ('traditional', 'ADJ'), ('manner', 'NOUN'), (',', '.'), (\"''\", '.'), ('says', 'VERB'), ('*T*-1', 'X'), ('James', 'NOUN'), ('H.', 'NOUN'), ('Coxon', 'NOUN'), (',', '.'), ('head', 'NOUN'), ('of', 'ADP'), ('stock', 'NOUN'), ('investments', 'NOUN'), ('for', 'ADP'), ('Cigna', 'NOUN'), ('Corp.', 'NOUN'), (',', '.'), ('the', 'DET'), ('Philadelphia-based', 'ADJ'), ('insurer', 'NOUN'), ('.', '.')], [('But', 'CONJ'), ('*', 'X'), ('do', 'VERB'), (\"n't\", 'ADV'), ('breathe', 'VERB'), ('too', 'ADV'), ('easy', 'ADJ'), (':', '.'), ('Those', 'DET'), ('dividend', 'NOUN'), ('increases', 'NOUN'), ('may', 'VERB'), ('signal', 'VERB'), ('trouble', 'NOUN'), ('ahead', 'ADV'), ('for', 'ADP'), ('stock', 'NOUN'), ('prices', 'NOUN'), (',', '.'), ('some', 'DET'), ('analysts', 'NOUN'), ('warn', 'VERB'), ('0', 'X'), ('*T*-1', 'X'), ('.', '.')], [('In', 'ADP'), ('*', 'X'), ('using', 'VERB'), ('program', 'NOUN'), ('trading', 'NOUN'), ('as', 'ADP'), ('a', 'DET'), ('whipping', 'ADJ'), ('boy', 'NOUN'), (',', '.'), ('fundamentalist', 'ADJ'), ('investors', 'NOUN'), ('stand', 'VERB'), ('*-1', 'X'), ('to', 'PRT'), ('gain', 'VERB'), ('the', 'DET'), ('high', 'ADJ'), ('ground', 'NOUN'), ('in', 'ADP'), ('*', 'X'), ('wooing', 'VERB'), ('small', 'ADJ'), ('investors', 'NOUN'), ('for', 'ADP'), ('their', 'PRON'), ('existing', 'VERB'), ('stock-selection', 'ADJ'), ('products', 'NOUN'), ('.', '.')], [('When', 'ADV'), ('Bell', 'NOUN'), ('established', 'VERB'), ('that', 'ADP'), ('the', 'DET'), ('Berliner', 'NOUN'), ('patent', 'NOUN'), ('caveat', 'NOUN'), ('was', 'VERB'), ('registered', 'VERB'), ('*-145', 'X'), ('10', 'NUM'), ('days', 'NOUN'), ('before', 'ADP'), ('Edison', 'NOUN'), (\"'s\", 'PRT'), ('application', 'NOUN'), ('*T*-1', 'X'), (',', '.'), ('Western', 'NOUN'), ('Union', 'NOUN'), ('dropped', 'VERB'), ('the', 'DET'), ('lawsuit', 'NOUN'), ('and', 'CONJ'), ('agreed', 'VERB'), ('*-2', 'X'), ('never', 'ADV'), ('to', 'PRT'), ('enter', 'VERB'), ('the', 'DET'), ('telephone', 'NOUN'), ('business', 'NOUN'), ('--', '.'), ('the', 'DET'), ('basis', 'NOUN'), ('for', 'ADP'), ('the', 'DET'), ('company', 'NOUN'), (\"'s\", 'PRT'), ('current', 'ADJ'), ('plight', 'NOUN'), ('.', '.')], [('Seats', 'NOUN'), ('currently', 'ADV'), ('are', 'VERB'), ('quoted', 'VERB'), ('*-1', 'X'), ('at', 'ADP'), ('$', '.'), ('331,000', 'NUM'), ('*U*', 'X'), (',', '.'), ('bid', 'NOUN'), ('*', 'X'), (',', '.'), ('and', 'CONJ'), ('$', '.'), ('350,000', 'NUM'), ('*U*', 'X'), (',', '.'), ('asked', 'VERB'), ('*', 'X'), ('.', '.')], [('At', 'ADP'), ('Christie', 'NOUN'), (\"'s\", 'PRT'), (',', '.'), ('a', 'DET'), ('folio', 'NOUN'), ('of', 'ADP'), ('21', 'NUM'), ('prints', 'NOUN'), ('from', 'ADP'), ('Alfred', 'NOUN'), ('Stieglitz', 'NOUN'), (\"'s\", 'PRT'), ('``', '.'), ('Equivalents', 'NOUN'), (\"''\", '.'), ('series', 'NOUN'), ('sold', 'VERB'), ('for', 'ADP'), ('$', '.'), ('396,000', 'NUM'), ('*U*', 'X'), (',', '.'), ('a', 'DET'), ('single-lot', 'ADJ'), ('record', 'NOUN'), ('.', '.')], [('Mrs.', 'NOUN'), ('Ward', 'NOUN'), (',', '.'), ('for', 'ADP'), ('one', 'NUM'), (',', '.'), ('was', 'VERB'), ('relieved', 'ADJ'), ('.', '.')], [('Most', 'ADJ'), ('contracts', 'NOUN'), ('are', 'VERB'), ('simply', 'ADV'), ('nullified', 'VERB'), ('*-1', 'X'), ('by', 'ADP'), ('an', 'DET'), ('opposite', 'ADJ'), ('trade', 'NOUN'), ('before', 'ADP'), ('they', 'PRON'), ('come', 'VERB'), ('due', 'ADJ'), ('.', '.')], [('The', 'DET'), ('company', 'NOUN'), ('earlier', 'ADV'), ('this', 'DET'), ('year', 'NOUN'), ('adopted', 'VERB'), ('a', 'DET'), ('shareholder-rights', 'ADJ'), ('plan', 'NOUN'), ('*-1', 'X'), ('to', 'PRT'), ('ward', 'VERB'), ('off', 'PRT'), ('unwanted', 'ADJ'), ('suitors', 'NOUN'), ('.', '.')], [('What', 'PRON'), ('*T*-1', 'X'), ('worries', 'VERB'), ('credit-rating', 'NOUN'), ('concerns', 'NOUN'), ('the', 'DET'), ('most', 'ADJ'), ('is', 'VERB'), ('that', 'ADP'), ('Wall', 'NOUN'), ('Street', 'NOUN'), ('firms', 'NOUN'), ('are', 'VERB'), ('taking', 'VERB'), ('long-term', 'ADJ'), ('risks', 'NOUN'), ('with', 'ADP'), ('their', 'PRON'), ('own', 'ADJ'), ('capital', 'NOUN'), ('via', 'ADP'), ('leveraged', 'ADJ'), ('buy-out', 'NOUN'), ('and', 'CONJ'), ('junk', 'NOUN'), ('bond', 'NOUN'), ('financings', 'NOUN'), ('.', '.')], [('But', 'CONJ'), ('some', 'DET'), ('European', 'ADJ'), ('funds', 'NOUN'), ('recently', 'ADV'), ('have', 'VERB'), ('skyrocketed', 'VERB'), (';', '.'), ('Spain', 'NOUN'), ('Fund', 'NOUN'), ('has', 'VERB'), ('surged', 'VERB'), ('to', 'PRT'), ('a', 'DET'), ('startling', 'ADJ'), ('120', 'NUM'), ('%', 'NOUN'), ('premium', 'NOUN'), ('.', '.')], [('Investors', 'NOUN'), ('took', 'VERB'), ('advantage', 'NOUN'), ('of', 'ADP'), ('Tuesday', 'NOUN'), (\"'s\", 'PRT'), ('stock', 'NOUN'), ('rally', 'NOUN'), ('*-1', 'X'), ('to', 'PRT'), ('book', 'VERB'), ('some', 'DET'), ('profits', 'NOUN'), ('yesterday', 'NOUN'), (',', '.'), ('*-1', 'X'), ('leaving', 'VERB'), ('stocks', 'ADV'), ('up', 'ADP'), ('fractionally', 'ADV'), ('.', '.')], [('50', 'NUM'), ('million', 'NUM'), ('Swiss', 'ADJ'), ('francs', 'NOUN'), ('of', 'ADP'), ('privately', 'ADV'), ('placed', 'VERB'), ('convertible', 'ADJ'), ('notes', 'NOUN'), ('due', 'ADJ'), ('March', 'NOUN'), ('31', 'NUM'), (',', '.'), ('1994', 'NUM'), (',', '.'), ('with', 'ADP'), ('a', 'DET'), ('fixed', 'VERB'), ('0.25', 'NUM'), ('%', 'NOUN'), ('coupon', 'NOUN'), ('at', 'ADP'), ('par', 'NOUN'), ('via', 'ADP'), ('Yamaichi', 'NOUN'), ('Bank', 'NOUN'), ('-LRB-', '.'), ('Switzerland', 'NOUN'), ('-RRB-', '.'), ('.', '.')], [('They', 'PRON'), ('are', 'VERB'), ('better', 'ADV'), ('able', 'ADJ'), ('*-1', 'X'), ('to', 'PRT'), ('get', 'VERB'), ('to', 'PRT'), ('those', 'DET'), ('segments', 'NOUN'), ('in', 'ADP'), ('the', 'DET'), ('wake', 'NOUN'), ('of', 'ADP'), ('the', 'DET'), ('deregulation', 'NOUN'), ('that', 'DET'), ('*T*-200', 'X'), ('began', 'VERB'), ('in', 'ADP'), ('the', 'DET'), ('late', 'ADJ'), ('1970s', 'NUM'), ('.', '.')], [('First', 'ADJ'), (',', '.'), ('they', 'PRON'), ('are', 'VERB'), ('designed', 'VERB'), ('*-1', 'X'), ('to', 'PRT'), ('eliminate', 'VERB'), ('the', 'DET'), ('risk', 'NOUN'), ('of', 'ADP'), ('prepayment', 'NOUN'), ('--', '.'), ('mortgage-backed', 'ADJ'), ('securities', 'NOUN'), ('can', 'VERB'), ('be', 'VERB'), ('retired', 'VERB'), ('*-43', 'X'), ('early', 'ADV'), ('if', 'ADP'), ('interest', 'NOUN'), ('rates', 'NOUN'), ('decline', 'VERB'), (',', '.'), ('and', 'CONJ'), ('such', 'ADJ'), ('prepayment', 'NOUN'), ('forces', 'VERB'), ('investors', 'NOUN'), ('to', 'PRT'), ('redeploy', 'VERB'), ('their', 'PRON'), ('money', 'NOUN'), ('at', 'ADP'), ('lower', 'ADJ'), ('rates', 'NOUN'), ('.', '.')], [('Lewis', 'NOUN'), ('C.', 'NOUN'), ('Veraldi', 'NOUN'), (',', '.'), ('the', 'DET'), ('father', 'NOUN'), ('of', 'ADP'), ('the', 'DET'), ('team', 'NOUN'), ('that', 'DET'), ('*T*-1', 'X'), ('created', 'VERB'), ('the', 'DET'), ('highly', 'ADV'), ('successful', 'ADJ'), ('Ford', 'NOUN'), ('Taurus', 'NOUN'), ('and', 'CONJ'), ('Mercury', 'NOUN'), ('Sable', 'NOUN'), ('cars', 'NOUN'), (',', '.'), ('retired', 'VERB'), ('early', 'ADV'), ('after', 'ADP'), ('*-2', 'X'), ('experiencing', 'VERB'), ('recent', 'ADJ'), ('heart', 'NOUN'), ('problems', 'NOUN'), ('.', '.')], [('Last', 'ADJ'), ('year', 'NOUN'), (',', '.'), ('it', 'PRON'), ('had', 'VERB'), ('*-1', 'X'), ('to', 'PRT'), ('buy', 'VERB'), ('sugar', 'NOUN'), ('on', 'ADP'), ('the', 'DET'), ('world', 'NOUN'), ('market', 'NOUN'), ('*-2', 'X'), ('to', 'PRT'), ('meet', 'VERB'), ('export', 'NOUN'), ('commitments', 'NOUN'), (',', '.'), ('they', 'PRON'), ('noted', 'VERB'), ('0', 'X'), ('*T*-3', 'X'), ('.', '.')], [('Vicar', 'NOUN'), ('Marshall', 'NOUN'), ('admits', 'VERB'), ('to', 'PRT'), ('mixed', 'VERB'), ('feelings', 'NOUN'), ('about', 'ADP'), ('this', 'DET'), ('issue', 'NOUN'), (',', '.'), ('since', 'ADP'), ('he', 'PRON'), ('is', 'VERB'), ('both', 'DET'), ('a', 'DET'), ('vicar', 'NOUN'), ('and', 'CONJ'), ('an', 'DET'), ('active', 'ADJ'), ('bell-ringer', 'NOUN'), ('himself', 'PRON'), ('.', '.')], [('The', 'DET'), ('latest', 'ADJ'), ('results', 'NOUN'), ('include', 'VERB'), ('some', 'DET'), ('unusual', 'ADJ'), ('write-downs', 'NOUN'), (',', '.'), ('which', 'DET'), ('*T*-1', 'X'), ('had', 'VERB'), ('an', 'DET'), ('after-tax', 'ADJ'), ('impact', 'NOUN'), ('of', 'ADP'), ('$', '.'), ('4.9', 'NUM'), ('million', 'NUM'), ('*U*', 'X'), ('.', '.')]]\n"
     ]
    }
   ],
   "source": [
    "# Splitting into train and test in the 95:5 ratio\n",
    "random.seed(1234)\n",
    "train_set, test_set = train_test_split(nltk_data,test_size=0.05)\n",
    "\n",
    "print(len(train_set))\n",
    "print(len(test_set))\n",
    "print(train_set[:50])"
   ]
  },
  {
   "cell_type": "code",
   "execution_count": 52,
   "metadata": {},
   "outputs": [
    {
     "data": {
      "text/plain": [
       "95669"
      ]
     },
     "execution_count": 52,
     "metadata": {},
     "output_type": "execute_result"
    }
   ],
   "source": [
    "# Getting list of tagged words\n",
    "train_tagged_words = [tup for sent in train_set for tup in sent]\n",
    "len(train_tagged_words)"
   ]
  },
  {
   "cell_type": "code",
   "execution_count": 53,
   "metadata": {},
   "outputs": [
    {
     "data": {
      "text/plain": [
       "['Several',\n",
       " 'traders',\n",
       " 'maintained',\n",
       " 'that',\n",
       " 'the',\n",
       " 'Merc',\n",
       " \"'s\",\n",
       " '12-point',\n",
       " 'circuit-breaker',\n",
       " 'aggravated']"
      ]
     },
     "execution_count": 53,
     "metadata": {},
     "output_type": "execute_result"
    }
   ],
   "source": [
    "# tokens \n",
    "tokens = [pair[0] for pair in train_tagged_words]\n",
    "tokens[:10]"
   ]
  },
  {
   "cell_type": "code",
   "execution_count": 54,
   "metadata": {},
   "outputs": [
    {
     "name": "stdout",
     "output_type": "stream",
     "text": [
      "12078\n"
     ]
    }
   ],
   "source": [
    "# vocabulary\n",
    "V = set(tokens)\n",
    "print(len(V))"
   ]
  },
  {
   "cell_type": "code",
   "execution_count": 55,
   "metadata": {},
   "outputs": [
    {
     "data": {
      "text/plain": [
       "12"
      ]
     },
     "execution_count": 55,
     "metadata": {},
     "output_type": "execute_result"
    }
   ],
   "source": [
    "# number of tags\n",
    "T = set([pair[1] for pair in train_tagged_words])\n",
    "len(T)"
   ]
  },
  {
   "cell_type": "code",
   "execution_count": 56,
   "metadata": {
    "scrolled": false
   },
   "outputs": [
    {
     "name": "stdout",
     "output_type": "stream",
     "text": [
      "{'ADP', 'ADJ', 'PRT', 'ADV', 'PRON', 'DET', 'NOUN', '.', 'NUM', 'CONJ', 'VERB', 'X'}\n"
     ]
    }
   ],
   "source": [
    "print(T)"
   ]
  },
  {
   "cell_type": "markdown",
   "metadata": {},
   "source": [
    "### Emission Probabilities"
   ]
  },
  {
   "cell_type": "code",
   "execution_count": 57,
   "metadata": {
    "scrolled": true
   },
   "outputs": [],
   "source": [
    "# computing P(w/t) and storing in T x V matrix\n",
    "t = len(T)\n",
    "v = len(V)\n",
    "w_given_t = np.zeros((t, v))"
   ]
  },
  {
   "cell_type": "code",
   "execution_count": 58,
   "metadata": {},
   "outputs": [
    {
     "data": {
      "text/plain": [
       "array([[0., 0., 0., ..., 0., 0., 0.],\n",
       "       [0., 0., 0., ..., 0., 0., 0.],\n",
       "       [0., 0., 0., ..., 0., 0., 0.],\n",
       "       ...,\n",
       "       [0., 0., 0., ..., 0., 0., 0.],\n",
       "       [0., 0., 0., ..., 0., 0., 0.],\n",
       "       [0., 0., 0., ..., 0., 0., 0.]])"
      ]
     },
     "execution_count": 58,
     "metadata": {},
     "output_type": "execute_result"
    }
   ],
   "source": [
    "w_given_t"
   ]
  },
  {
   "cell_type": "code",
   "execution_count": 59,
   "metadata": {},
   "outputs": [],
   "source": [
    "# compute word given tag: Emission Probability\n",
    "def word_given_tag(word, tag, train_bag = train_tagged_words):\n",
    "    tag_list = [pair for pair in train_bag if pair[1]==tag]\n",
    "    count_tag = len(tag_list)\n",
    "    w_given_tag_list = [pair[0] for pair in tag_list if pair[0]==word]\n",
    "    count_w_given_tag = len(w_given_tag_list)\n",
    "    \n",
    "    return (count_w_given_tag, count_tag)\n"
   ]
  },
  {
   "cell_type": "code",
   "execution_count": 60,
   "metadata": {},
   "outputs": [
    {
     "name": "stdout",
     "output_type": "stream",
     "text": [
      "\n",
      " night\n",
      "(0, 6054)\n",
      "(0, 2600)\n",
      "(8, 27462) \n",
      "\n",
      "\n",
      " was\n",
      "(0, 6054)\n",
      "(0, 27462)\n",
      "(342, 12844)\n",
      "\n",
      " California\n",
      "(26, 27462)\n",
      "(0, 12844)\n"
     ]
    }
   ],
   "source": [
    "# examples\n",
    "\n",
    "# night\n",
    "print(\"\\n\", \"night\")\n",
    "print(word_given_tag('night', 'ADJ'))\n",
    "print(word_given_tag('night', 'PRON'))\n",
    "print(word_given_tag('night', 'NOUN'), \"\\n\")\n",
    "\n",
    "# was\n",
    "print(\"\\n\", \"was\")\n",
    "print(word_given_tag('was', 'ADJ'))\n",
    "print(word_given_tag('was', 'NOUN'))\n",
    "print(word_given_tag('was', 'VERB'))\n",
    "\n",
    "# California\n",
    "print(\"\\n\", \"California\")\n",
    "print(word_given_tag('California', 'NOUN'))\n",
    "print(word_given_tag('California', 'VERB'))"
   ]
  },
  {
   "cell_type": "markdown",
   "metadata": {},
   "source": [
    "### Transition Probabilities"
   ]
  },
  {
   "cell_type": "code",
   "execution_count": 61,
   "metadata": {},
   "outputs": [],
   "source": [
    "# compute tag given tag: tag2(t2) given tag1 (t1), i.e. Transition Probability\n",
    "\n",
    "def t2_given_t1(t2, t1, train_bag = train_tagged_words):\n",
    "    tags = [pair[1] for pair in train_bag]\n",
    "    count_t1 = len([t for t in tags if t==t1])\n",
    "    count_t2_t1 = 0\n",
    "    for index in range(len(tags)-1):\n",
    "        if tags[index]==t1 and tags[index+1] == t2:\n",
    "            count_t2_t1 += 1\n",
    "    return (count_t2_t1, count_t1)"
   ]
  },
  {
   "cell_type": "code",
   "execution_count": 62,
   "metadata": {
    "scrolled": true
   },
   "outputs": [
    {
     "name": "stdout",
     "output_type": "stream",
     "text": [
      "(4233, 6054)\n",
      "(94, 3008)\n",
      "(5288, 8271)\n",
      "(1415, 12844)\n",
      "(6615, 27462)\n",
      "(2491, 11190)\n",
      "(18, 2600)\n",
      "(4015, 27462)\n"
     ]
    }
   ],
   "source": [
    "# examples\n",
    "print(t2_given_t1(t2='NOUN', t1='ADJ'))\n",
    "print(t2_given_t1('NOUN', 'ADV'))\n",
    "print(t2_given_t1('NOUN', 'DET'))\n",
    "print(t2_given_t1('NOUN', 'VERB'))\n",
    "print(t2_given_t1('.', 'NOUN'))\n",
    "print(t2_given_t1('NOUN','.'))\n",
    "print(t2_given_t1('PRON', 'PRON'))\n",
    "print(t2_given_t1('VERB', 'NOUN'))"
   ]
  },
  {
   "cell_type": "code",
   "execution_count": 63,
   "metadata": {},
   "outputs": [
    {
     "name": "stdout",
     "output_type": "stream",
     "text": [
      "(1917, 11190)\n",
      "(1001, 11190)\n",
      "(2491, 11190)\n",
      "(490, 11190)\n"
     ]
    }
   ],
   "source": [
    "#Please note P(tag|start) is same as P(tag|'.')\n",
    "print(t2_given_t1('DET', '.'))\n",
    "print(t2_given_t1('VERB', '.'))\n",
    "print(t2_given_t1('NOUN', '.'))\n",
    "print(t2_given_t1('ADJ', '.'))\n"
   ]
  },
  {
   "cell_type": "code",
   "execution_count": 64,
   "metadata": {},
   "outputs": [
    {
     "name": "stdout",
     "output_type": "stream",
     "text": [
      "(4015, 27462)\n"
     ]
    }
   ],
   "source": [
    "print(t2_given_t1('VERB', 'NOUN'))\n"
   ]
  },
  {
   "cell_type": "code",
   "execution_count": 65,
   "metadata": {},
   "outputs": [],
   "source": [
    "# creating t x t transition matrix of tags\n",
    "# each column is t2, each row is t1\n",
    "# thus M(i, j) represents P(tj given ti)\n",
    "\n",
    "tags_matrix = np.zeros((len(T), len(T)), dtype='float32')\n",
    "for i, t1 in enumerate(list(T)):\n",
    "    for j, t2 in enumerate(list(T)): \n",
    "        tags_matrix[i, j] = t2_given_t1(t2, t1)[0]/t2_given_t1(t2, t1)[1]"
   ]
  },
  {
   "cell_type": "code",
   "execution_count": 66,
   "metadata": {},
   "outputs": [
    {
     "data": {
      "text/plain": [
       "array([[1.67556033e-02, 1.06510140e-01, 1.38740661e-03, 1.34471720e-02,\n",
       "        6.85165450e-02, 3.23372453e-01, 3.23052287e-01, 4.02347930e-02,\n",
       "        6.26467466e-02, 8.53788690e-04, 8.53788666e-03, 3.46851647e-02],\n",
       "       [7.71390796e-02, 6.65675551e-02, 1.04063433e-02, 4.79022134e-03,\n",
       "        4.95540153e-04, 5.12058148e-03, 6.99207127e-01, 6.45853952e-02,\n",
       "        2.11430453e-02, 1.71787255e-02, 1.22233238e-02, 2.11430453e-02],\n",
       "       [2.03545634e-02, 8.53578448e-02, 1.64149702e-03, 1.01772817e-02,\n",
       "        1.87130664e-02, 1.01444520e-01, 2.49507546e-01, 4.36638221e-02,\n",
       "        5.64674996e-02, 2.29809596e-03, 3.97242278e-01, 1.31319761e-02],\n",
       "       [1.18683510e-01, 1.28656909e-01, 1.49601065e-02, 7.91223422e-02,\n",
       "        1.46276597e-02, 6.94813803e-02, 3.12500000e-02, 1.37632981e-01,\n",
       "        3.15824486e-02, 6.98138308e-03, 3.44414890e-01, 2.26063821e-02],\n",
       "       [2.38461532e-02, 7.38461539e-02, 1.26923081e-02, 3.50000001e-02,\n",
       "        6.92307670e-03, 8.84615351e-03, 2.11538464e-01, 4.03846167e-02,\n",
       "        6.15384616e-03, 5.38461516e-03, 4.84230757e-01, 9.11538452e-02],\n",
       "       [9.55144502e-03, 2.04086572e-01, 2.41808724e-04, 1.19695319e-02,\n",
       "        3.74803529e-03, 5.56160090e-03, 6.39342308e-01, 1.80147495e-02,\n",
       "        2.18836907e-02, 4.83617448e-04, 3.97775359e-02, 4.53391373e-02],\n",
       "       [1.77372366e-01, 1.18345348e-02, 4.40972969e-02, 1.68960746e-02,\n",
       "        4.69740015e-03, 1.32182650e-02, 2.64073998e-01, 2.40878299e-01,\n",
       "        9.43121407e-03, 4.27863970e-02, 1.46202028e-01, 2.85121258e-02],\n",
       "       [9.10634473e-02, 4.37890962e-02, 2.41286866e-03, 5.26362807e-02,\n",
       "        6.55049160e-02, 1.71313673e-01, 2.22609475e-01, 9.42806080e-02,\n",
       "        8.13226104e-02, 5.83556741e-02, 8.94548669e-02, 2.71671135e-02],\n",
       "       [3.54191251e-02, 3.30578499e-02, 2.74498221e-02, 2.95159384e-03,\n",
       "        1.77095633e-03, 2.95159384e-03, 3.52420300e-01, 1.14521839e-01,\n",
       "        1.86835885e-01, 1.35773318e-02, 1.82998814e-02, 2.10743800e-01],\n",
       "       [5.30198254e-02, 1.18487783e-01, 5.07146167e-03, 5.48639931e-02,\n",
       "        5.80912866e-02, 1.14799447e-01, 3.51775020e-01, 3.55002321e-02,\n",
       "        4.19548191e-02, 4.61041956e-04, 1.58137396e-01, 7.83771370e-03],\n",
       "       [9.03924033e-02, 6.50887564e-02, 3.08315158e-02, 8.17502365e-02,\n",
       "        3.57365310e-02, 1.35705382e-01, 1.10168174e-01, 3.52693871e-02,\n",
       "        2.32793521e-02, 5.45001542e-03, 1.68249771e-01, 2.18078479e-01],\n",
       "       [1.43609390e-01, 1.67544279e-02, 1.83022186e-01, 2.58496888e-02,\n",
       "        5.61672263e-02, 5.44119999e-02, 6.30285591e-02, 1.64831653e-01,\n",
       "        2.71262159e-03, 1.05313547e-02, 2.03287065e-01, 7.57938400e-02]],\n",
       "      dtype=float32)"
      ]
     },
     "execution_count": 66,
     "metadata": {},
     "output_type": "execute_result"
    }
   ],
   "source": [
    "tags_matrix"
   ]
  },
  {
   "cell_type": "code",
   "execution_count": 67,
   "metadata": {},
   "outputs": [],
   "source": [
    "# convert the matrix to a df for better readability\n",
    "tags_df = pd.DataFrame(tags_matrix, columns = list(T), index=list(T))"
   ]
  },
  {
   "cell_type": "code",
   "execution_count": 68,
   "metadata": {
    "scrolled": true
   },
   "outputs": [
    {
     "data": {
      "text/html": [
       "<div>\n",
       "<style scoped>\n",
       "    .dataframe tbody tr th:only-of-type {\n",
       "        vertical-align: middle;\n",
       "    }\n",
       "\n",
       "    .dataframe tbody tr th {\n",
       "        vertical-align: top;\n",
       "    }\n",
       "\n",
       "    .dataframe thead th {\n",
       "        text-align: right;\n",
       "    }\n",
       "</style>\n",
       "<table border=\"1\" class=\"dataframe\">\n",
       "  <thead>\n",
       "    <tr style=\"text-align: right;\">\n",
       "      <th></th>\n",
       "      <th>ADP</th>\n",
       "      <th>ADJ</th>\n",
       "      <th>PRT</th>\n",
       "      <th>ADV</th>\n",
       "      <th>PRON</th>\n",
       "      <th>DET</th>\n",
       "      <th>NOUN</th>\n",
       "      <th>.</th>\n",
       "      <th>NUM</th>\n",
       "      <th>CONJ</th>\n",
       "      <th>VERB</th>\n",
       "      <th>X</th>\n",
       "    </tr>\n",
       "  </thead>\n",
       "  <tbody>\n",
       "    <tr>\n",
       "      <th>ADP</th>\n",
       "      <td>0.016756</td>\n",
       "      <td>0.106510</td>\n",
       "      <td>0.001387</td>\n",
       "      <td>0.013447</td>\n",
       "      <td>0.068517</td>\n",
       "      <td>0.323372</td>\n",
       "      <td>0.323052</td>\n",
       "      <td>0.040235</td>\n",
       "      <td>0.062647</td>\n",
       "      <td>0.000854</td>\n",
       "      <td>0.008538</td>\n",
       "      <td>0.034685</td>\n",
       "    </tr>\n",
       "    <tr>\n",
       "      <th>ADJ</th>\n",
       "      <td>0.077139</td>\n",
       "      <td>0.066568</td>\n",
       "      <td>0.010406</td>\n",
       "      <td>0.004790</td>\n",
       "      <td>0.000496</td>\n",
       "      <td>0.005121</td>\n",
       "      <td>0.699207</td>\n",
       "      <td>0.064585</td>\n",
       "      <td>0.021143</td>\n",
       "      <td>0.017179</td>\n",
       "      <td>0.012223</td>\n",
       "      <td>0.021143</td>\n",
       "    </tr>\n",
       "    <tr>\n",
       "      <th>PRT</th>\n",
       "      <td>0.020355</td>\n",
       "      <td>0.085358</td>\n",
       "      <td>0.001641</td>\n",
       "      <td>0.010177</td>\n",
       "      <td>0.018713</td>\n",
       "      <td>0.101445</td>\n",
       "      <td>0.249508</td>\n",
       "      <td>0.043664</td>\n",
       "      <td>0.056467</td>\n",
       "      <td>0.002298</td>\n",
       "      <td>0.397242</td>\n",
       "      <td>0.013132</td>\n",
       "    </tr>\n",
       "    <tr>\n",
       "      <th>ADV</th>\n",
       "      <td>0.118684</td>\n",
       "      <td>0.128657</td>\n",
       "      <td>0.014960</td>\n",
       "      <td>0.079122</td>\n",
       "      <td>0.014628</td>\n",
       "      <td>0.069481</td>\n",
       "      <td>0.031250</td>\n",
       "      <td>0.137633</td>\n",
       "      <td>0.031582</td>\n",
       "      <td>0.006981</td>\n",
       "      <td>0.344415</td>\n",
       "      <td>0.022606</td>\n",
       "    </tr>\n",
       "    <tr>\n",
       "      <th>PRON</th>\n",
       "      <td>0.023846</td>\n",
       "      <td>0.073846</td>\n",
       "      <td>0.012692</td>\n",
       "      <td>0.035000</td>\n",
       "      <td>0.006923</td>\n",
       "      <td>0.008846</td>\n",
       "      <td>0.211538</td>\n",
       "      <td>0.040385</td>\n",
       "      <td>0.006154</td>\n",
       "      <td>0.005385</td>\n",
       "      <td>0.484231</td>\n",
       "      <td>0.091154</td>\n",
       "    </tr>\n",
       "    <tr>\n",
       "      <th>DET</th>\n",
       "      <td>0.009551</td>\n",
       "      <td>0.204087</td>\n",
       "      <td>0.000242</td>\n",
       "      <td>0.011970</td>\n",
       "      <td>0.003748</td>\n",
       "      <td>0.005562</td>\n",
       "      <td>0.639342</td>\n",
       "      <td>0.018015</td>\n",
       "      <td>0.021884</td>\n",
       "      <td>0.000484</td>\n",
       "      <td>0.039778</td>\n",
       "      <td>0.045339</td>\n",
       "    </tr>\n",
       "    <tr>\n",
       "      <th>NOUN</th>\n",
       "      <td>0.177372</td>\n",
       "      <td>0.011835</td>\n",
       "      <td>0.044097</td>\n",
       "      <td>0.016896</td>\n",
       "      <td>0.004697</td>\n",
       "      <td>0.013218</td>\n",
       "      <td>0.264074</td>\n",
       "      <td>0.240878</td>\n",
       "      <td>0.009431</td>\n",
       "      <td>0.042786</td>\n",
       "      <td>0.146202</td>\n",
       "      <td>0.028512</td>\n",
       "    </tr>\n",
       "    <tr>\n",
       "      <th>.</th>\n",
       "      <td>0.091063</td>\n",
       "      <td>0.043789</td>\n",
       "      <td>0.002413</td>\n",
       "      <td>0.052636</td>\n",
       "      <td>0.065505</td>\n",
       "      <td>0.171314</td>\n",
       "      <td>0.222609</td>\n",
       "      <td>0.094281</td>\n",
       "      <td>0.081323</td>\n",
       "      <td>0.058356</td>\n",
       "      <td>0.089455</td>\n",
       "      <td>0.027167</td>\n",
       "    </tr>\n",
       "    <tr>\n",
       "      <th>NUM</th>\n",
       "      <td>0.035419</td>\n",
       "      <td>0.033058</td>\n",
       "      <td>0.027450</td>\n",
       "      <td>0.002952</td>\n",
       "      <td>0.001771</td>\n",
       "      <td>0.002952</td>\n",
       "      <td>0.352420</td>\n",
       "      <td>0.114522</td>\n",
       "      <td>0.186836</td>\n",
       "      <td>0.013577</td>\n",
       "      <td>0.018300</td>\n",
       "      <td>0.210744</td>\n",
       "    </tr>\n",
       "    <tr>\n",
       "      <th>CONJ</th>\n",
       "      <td>0.053020</td>\n",
       "      <td>0.118488</td>\n",
       "      <td>0.005071</td>\n",
       "      <td>0.054864</td>\n",
       "      <td>0.058091</td>\n",
       "      <td>0.114799</td>\n",
       "      <td>0.351775</td>\n",
       "      <td>0.035500</td>\n",
       "      <td>0.041955</td>\n",
       "      <td>0.000461</td>\n",
       "      <td>0.158137</td>\n",
       "      <td>0.007838</td>\n",
       "    </tr>\n",
       "    <tr>\n",
       "      <th>VERB</th>\n",
       "      <td>0.090392</td>\n",
       "      <td>0.065089</td>\n",
       "      <td>0.030832</td>\n",
       "      <td>0.081750</td>\n",
       "      <td>0.035737</td>\n",
       "      <td>0.135705</td>\n",
       "      <td>0.110168</td>\n",
       "      <td>0.035269</td>\n",
       "      <td>0.023279</td>\n",
       "      <td>0.005450</td>\n",
       "      <td>0.168250</td>\n",
       "      <td>0.218078</td>\n",
       "    </tr>\n",
       "    <tr>\n",
       "      <th>X</th>\n",
       "      <td>0.143609</td>\n",
       "      <td>0.016754</td>\n",
       "      <td>0.183022</td>\n",
       "      <td>0.025850</td>\n",
       "      <td>0.056167</td>\n",
       "      <td>0.054412</td>\n",
       "      <td>0.063029</td>\n",
       "      <td>0.164832</td>\n",
       "      <td>0.002713</td>\n",
       "      <td>0.010531</td>\n",
       "      <td>0.203287</td>\n",
       "      <td>0.075794</td>\n",
       "    </tr>\n",
       "  </tbody>\n",
       "</table>\n",
       "</div>"
      ],
      "text/plain": [
       "           ADP       ADJ       PRT       ADV      PRON       DET      NOUN  \\\n",
       "ADP   0.016756  0.106510  0.001387  0.013447  0.068517  0.323372  0.323052   \n",
       "ADJ   0.077139  0.066568  0.010406  0.004790  0.000496  0.005121  0.699207   \n",
       "PRT   0.020355  0.085358  0.001641  0.010177  0.018713  0.101445  0.249508   \n",
       "ADV   0.118684  0.128657  0.014960  0.079122  0.014628  0.069481  0.031250   \n",
       "PRON  0.023846  0.073846  0.012692  0.035000  0.006923  0.008846  0.211538   \n",
       "DET   0.009551  0.204087  0.000242  0.011970  0.003748  0.005562  0.639342   \n",
       "NOUN  0.177372  0.011835  0.044097  0.016896  0.004697  0.013218  0.264074   \n",
       ".     0.091063  0.043789  0.002413  0.052636  0.065505  0.171314  0.222609   \n",
       "NUM   0.035419  0.033058  0.027450  0.002952  0.001771  0.002952  0.352420   \n",
       "CONJ  0.053020  0.118488  0.005071  0.054864  0.058091  0.114799  0.351775   \n",
       "VERB  0.090392  0.065089  0.030832  0.081750  0.035737  0.135705  0.110168   \n",
       "X     0.143609  0.016754  0.183022  0.025850  0.056167  0.054412  0.063029   \n",
       "\n",
       "             .       NUM      CONJ      VERB         X  \n",
       "ADP   0.040235  0.062647  0.000854  0.008538  0.034685  \n",
       "ADJ   0.064585  0.021143  0.017179  0.012223  0.021143  \n",
       "PRT   0.043664  0.056467  0.002298  0.397242  0.013132  \n",
       "ADV   0.137633  0.031582  0.006981  0.344415  0.022606  \n",
       "PRON  0.040385  0.006154  0.005385  0.484231  0.091154  \n",
       "DET   0.018015  0.021884  0.000484  0.039778  0.045339  \n",
       "NOUN  0.240878  0.009431  0.042786  0.146202  0.028512  \n",
       ".     0.094281  0.081323  0.058356  0.089455  0.027167  \n",
       "NUM   0.114522  0.186836  0.013577  0.018300  0.210744  \n",
       "CONJ  0.035500  0.041955  0.000461  0.158137  0.007838  \n",
       "VERB  0.035269  0.023279  0.005450  0.168250  0.218078  \n",
       "X     0.164832  0.002713  0.010531  0.203287  0.075794  "
      ]
     },
     "execution_count": 68,
     "metadata": {},
     "output_type": "execute_result"
    }
   ],
   "source": [
    "tags_df"
   ]
  },
  {
   "cell_type": "code",
   "execution_count": 69,
   "metadata": {},
   "outputs": [
    {
     "data": {
      "text/plain": [
       "ADP     0.091063\n",
       "ADJ     0.043789\n",
       "PRT     0.002413\n",
       "ADV     0.052636\n",
       "PRON    0.065505\n",
       "DET     0.171314\n",
       "NOUN    0.222609\n",
       ".       0.094281\n",
       "NUM     0.081323\n",
       "CONJ    0.058356\n",
       "VERB    0.089455\n",
       "X       0.027167\n",
       "Name: ., dtype: float32"
      ]
     },
     "execution_count": 69,
     "metadata": {},
     "output_type": "execute_result"
    }
   ],
   "source": [
    "tags_df.loc['.', :]"
   ]
  },
  {
   "cell_type": "code",
   "execution_count": 70,
   "metadata": {},
   "outputs": [
    {
     "data": {
      "image/png": "[encoded data removed]",
      "text/plain": [
       "<Figure size 1296x864 with 2 Axes>"
      ]
     },
     "metadata": {},
     "output_type": "display_data"
    }
   ],
   "source": [
    "# heatmap of tags matrix\n",
    "# T(i, j) means P(tag j given tag i)\n",
    "plt.figure(figsize=(18, 12))\n",
    "sns.heatmap(tags_df)\n",
    "plt.show()"
   ]
  },
  {
   "cell_type": "code",
   "execution_count": 71,
   "metadata": {},
   "outputs": [
    {
     "data": {
      "image/png": "[encoded data removed]",
      "text/plain": [
       "<Figure size 1296x864 with 2 Axes>"
      ]
     },
     "metadata": {},
     "output_type": "display_data"
    }
   ],
   "source": [
    "# frequent tags\n",
    "# filter the df to get P(t2, t1) > 0.5\n",
    "tags_frequent = tags_df[tags_df>0.5]\n",
    "plt.figure(figsize=(18, 12))\n",
    "sns.heatmap(tags_frequent)\n",
    "plt.show()"
   ]
  },
  {
   "cell_type": "code",
   "execution_count": 72,
   "metadata": {
    "scrolled": true
   },
   "outputs": [
    {
     "data": {
      "text/plain": [
       "95669"
      ]
     },
     "execution_count": 72,
     "metadata": {},
     "output_type": "execute_result"
    }
   ],
   "source": [
    "len(train_tagged_words)"
   ]
  },
  {
   "cell_type": "code",
   "execution_count": 73,
   "metadata": {},
   "outputs": [],
   "source": [
    "# Viterbi Heuristic\n",
    "def Viterbi(words, train_bag = train_tagged_words):\n",
    "    state = []\n",
    "    T = list(set([pair[1] for pair in train_bag]))\n",
    "    \n",
    "    for key, word in enumerate(words):\n",
    "        #initialise list of probability column for a given observation\n",
    "        p = [] \n",
    "        for tag in T:\n",
    "            if key == 0:\n",
    "                transition_p = tags_df.loc['.', tag]\n",
    "            else:\n",
    "                transition_p = tags_df.loc[state[-1], tag]\n",
    "                \n",
    "            # compute emission and state probabilities\n",
    "            emission_p = word_given_tag(words[key], tag)[0]/word_given_tag(words[key], tag)[1]\n",
    "            state_probability = emission_p * transition_p    \n",
    "            p.append(state_probability)\n",
    "            \n",
    "        pmax = max(p)\n",
    "        # getting state for which probability is maximum\n",
    "        state_max = T[p.index(pmax)] \n",
    "        state.append(state_max)\n",
    "    return list(zip(words, state))\n",
    "\n"
   ]
  },
  {
   "cell_type": "code",
   "execution_count": 74,
   "metadata": {},
   "outputs": [],
   "source": [
    "# list of sentences in the test set\n",
    "test_run = [sent for sent in test_set]\n",
    "\n",
    "# list of tagged words\n",
    "test_run_base = [tup for sent in test_set for tup in sent]\n",
    "\n",
    "# list of untagged words\n",
    "test_tagged_words = [tup[0] for sent in test_run for tup in sent]"
   ]
  },
  {
   "cell_type": "code",
   "execution_count": 75,
   "metadata": {},
   "outputs": [
    {
     "name": "stdout",
     "output_type": "stream",
     "text": [
      "196\n",
      "5007\n",
      "5007\n"
     ]
    }
   ],
   "source": [
    "print(len(test_run))\n",
    "print(len(test_run_base))\n",
    "print(len(test_tagged_words))"
   ]
  },
  {
   "cell_type": "markdown",
   "metadata": {},
   "source": [
    "### Solve the problem of unknown words"
   ]
  },
  {
   "cell_type": "markdown",
   "metadata": {},
   "source": [
    "#### Original viterbi algorithm fails if the test word is not available in the training corpus and it assigns the first tag to the unkonwn word.\n",
    "\n",
    "### Viterbi Modification-Technique I \n",
    "\n",
    "-  #### We are modifying the base viterbi function to create a new function modified_Viterbi_1.\n",
    "-  #### It first uses the vanilla viterbi algorithm logic to compute the tag of the word. If the maximum state probability for a word is 0, it calls a new funtion rule_based_tag to identify the tag of the word.\n",
    "-  #### We pass the current word and the previous word to the rule_based_tag function. This function uses some predefined rules based on regular expression search patterns to identify the tag of the word."
   ]
  },
  {
   "cell_type": "code",
   "execution_count": 118,
   "metadata": {},
   "outputs": [],
   "source": [
    "# compute tag using predefined rules based on regular expression search patterns. \n",
    "\n",
    "def rule_based_tag(prev_word, word):\n",
    "    \n",
    "    #If the previous word is either - 'will','would','can',could','should','to' - then the tag of the current word is 'VERB'  \n",
    "    if(prev_word in ['will','would','can','could','should','to']):\n",
    "        tag = 'VERB'\n",
    "    #If the word is completly numeric (including -ve and decimal signs) - then the tag of the word is 'NUM'\n",
    "    elif(re.search('^-?[0-9]+(.[0-9]+)?$', word)):\n",
    "        tag = 'NUM'\n",
    "    #If the word has a hypen in the middle - then the tag of the word is 'ADJ', e.g. best-selling\n",
    "    elif(re.search('.+-+.+', word)):\n",
    "        tag = 'ADJ'\n",
    "    #If the previous word is either - 'a', 'an' or 'the' and current word ends with 'ing', then tag of the current word is 'ADJ'\n",
    "    elif(prev_word in ['a','an','the'] and re.search('.+ing$', word)):\n",
    "        tag = 'ADJ'\n",
    "    #If the word ends with either 'ing' or 'ed' or 'ould' - then the tag of the word is 'VERB'\n",
    "    elif(re.search('.*(ing|ed|ould)$', word)):\n",
    "        tag = 'VERB'\n",
    "    #If the word starts with a capital letter - then the tag of the word is 'NOUN'\n",
    "    elif(re.search('^[A-Z]+', word)):\n",
    "        tag = 'NOUN'\n",
    "    #If the word ends with 'ous' - then the tag of the word is 'ADJ'\n",
    "    elif(re.search('.+(ous)$', word)):\n",
    "        tag = 'ADJ'\n",
    "    #If the word ends with 'ly' - then the tag of the word is 'ADV'\n",
    "    elif(re.search('.+(ly)$', word)):\n",
    "        tag = 'ADV'\n",
    "    #If the word ends with 's' - then the tag of the word is 'NOUN'\n",
    "    elif(re.search('.+s$', word)):\n",
    "        tag = 'NOUN'\n",
    "    #Assign the tag 'NOUN' if none of the above rule matches\n",
    "    else:\n",
    "        tag = 'NOUN'\n",
    "    \n",
    "    return (tag)"
   ]
  },
  {
   "cell_type": "code",
   "execution_count": 77,
   "metadata": {},
   "outputs": [],
   "source": [
    "# Modified Viterbi Heuristic technique I\n",
    "def modified_Viterbi_1(words, train_bag = train_tagged_words):\n",
    "    state = []\n",
    "    T = list(set([pair[1] for pair in train_bag]))\n",
    "    \n",
    "    for key, word in enumerate(words):\n",
    "        #initialise list of probability column for a given observation\n",
    "        p = [] \n",
    "        word_tag = None\n",
    "        \n",
    "        for tag in T:\n",
    "            if key == 0:\n",
    "                transition_p = tags_df.loc['.', tag]\n",
    "            else:\n",
    "                transition_p = tags_df.loc[state[-1], tag]\n",
    "                \n",
    "            # compute emission and state probabilities\n",
    "            emission_p = word_given_tag(words[key], tag)[0]/word_given_tag(words[key], tag)[1]\n",
    "            state_probability = emission_p * transition_p    \n",
    "            p.append(state_probability)\n",
    "            \n",
    "        pmax = max(p)\n",
    "        \n",
    "        #if max state probability is 0, then call rule_based_tag function\n",
    "        if pmax == 0:\n",
    "            if key == 0:\n",
    "                prev_word = '.'\n",
    "            else:\n",
    "                prev_word = words[key-1]\n",
    "            \n",
    "            word_tag = rule_based_tag(prev_word, word)\n",
    "            state.append(word_tag)\n",
    "\n",
    "        else:\n",
    "            # getting state for which probability is maximum\n",
    "            state_max = T[p.index(pmax)] \n",
    "            state.append(state_max)\n",
    "\n",
    "    return list(zip(words, state))\n"
   ]
  },
  {
   "cell_type": "markdown",
   "metadata": {},
   "source": [
    "### Viterbi Modification-Technique II\n",
    "\n",
    "-  #### We are modifying the base viterbi function to create a new function modified_Viterbi_2.\n",
    "-  #### This technique has three stages to compute the tag of the words. \n",
    "####        For each word:\n",
    " - #### Use the vanilla viterbi algorithm logic to compute the tag of the word. If the maximum state probability for the word is greater than 0, use the corresponding tag for the maximum state probability.\n",
    " - #### If the maximum state probability for the word is 0, then it calls the function tag_given_prev_next_words to compute the tag of the word. We pass previous word, tag of the previous word (since we have already computed the tag of the previous word) and the next word in the sequence to this function. We basically try to find similar words in the training corpus which has same previous word, previous tag and next word. tag_given_prev_next_words function finds all words in the training corpus which has same 1) previous word, 2) tag of the previous word, 3) next word. It then stores the tags of such similar words and their counts in a dictionary. The tag with maximum count (occurences) is returned by the function. If no matches occur, then None is returned by the function.\n",
    " - #### If tag_given_prev_next_words returns None, then it means that training corpus doesn't have any words with similar surrounding words. We then make a last attempt to compute the tag of the word. We calculate the state probabilities of the tags for the word again and this time if either of the transition or emission probabilities are zero, we assume them as 1 (so that we use only the other non-zero probability). We use the corresponding tag for the maximum state probability.\n"
   ]
  },
  {
   "cell_type": "code",
   "execution_count": 78,
   "metadata": {},
   "outputs": [],
   "source": [
    "# compute tag given previous word, previous word tag, next word\n",
    "\n",
    "def tag_given_prev_next_words(prev_word, prev_tag, next_word, train_bag = train_tagged_words):\n",
    "    tags = {}\n",
    "    for i in range(len(train_bag)-3):\n",
    "        #if the ith word matches the previous word, tag of the ith word matches the tag of the previous word and \n",
    "        #(i+2) word matches the next word, then store the tag of the (i+1) word in the dictionary tags. (i+1) is the \n",
    "        #similar word to our given word (having same surrounding words)\n",
    "        if(train_bag[i][0] == prev_word and train_bag[i][1] == prev_tag and train_bag[i+2][0] == next_word):\n",
    "            #Store the tag of the (i+1) word in the tags dictionary as the key \n",
    "            #and count of same tag searches as the dictionary value \n",
    "            if(tags.get(train_bag[i+1][1]) == None):\n",
    "                tags[train_bag[i+1][1]] = 1\n",
    "            else:\n",
    "                tags[train_bag[i+1][1]] = tags[train_bag[i+1][1]] + 1\n",
    "    max_key = None\n",
    "    #return the key (tag) of the tags dictionary which has the maximum value (tag search occurences)\n",
    "    if(len(tags) > 0):\n",
    "        max_key = max(tags, key=lambda k: tags[k])\n",
    "\n",
    "    return (max_key)"
   ]
  },
  {
   "cell_type": "code",
   "execution_count": 156,
   "metadata": {},
   "outputs": [],
   "source": [
    "# Modified Viterbi Heuristic technique II\n",
    "def modified_Viterbi_2(words, train_bag = train_tagged_words):\n",
    "    state = []\n",
    "    T = list(set([pair[1] for pair in train_bag]))\n",
    "    \n",
    "    for key, word in enumerate(words):\n",
    "        #initialise list of probability column for a given observation\n",
    "        p = [] \n",
    "        word_tag = None\n",
    "        \n",
    "        for tag in T:\n",
    "            if key == 0:\n",
    "                transition_p = tags_df.loc['.', tag]\n",
    "            else:\n",
    "                transition_p = tags_df.loc[state[-1], tag]\n",
    "                \n",
    "            # compute emission and state probabilities\n",
    "            emission_p = word_given_tag(words[key], tag)[0]/word_given_tag(words[key], tag)[1]\n",
    "            state_probability = emission_p * transition_p    \n",
    "            p.append(state_probability)\n",
    "            \n",
    "        pmax = max(p)\n",
    "        \n",
    "        #if max state probability is 0, then call tag_given_prev_next_words function\n",
    "        if pmax == 0:\n",
    "            if key == 0:\n",
    "                prev_word = '.'\n",
    "                prev_tag = '.'\n",
    "            else:\n",
    "                prev_word = words[key-1]\n",
    "                prev_tag = state[-1]\n",
    "            \n",
    "            next_word = words[key+1]\n",
    "            word_tag = tag_given_prev_next_words(prev_word, prev_tag, next_word)\n",
    "                    \n",
    "        if(word_tag != None):\n",
    "            state.append(word_tag)\n",
    "        elif (pmax == 0):\n",
    "        #If tag_given_prev_next_words didn't return any tag and base viterbi also failed, then caclulate state probabilities \n",
    "        #one more time. Here, if either of the transition or emission probabilities are zero, we assume them as 1 \n",
    "        #(so that we use only the other non-zero probability). We use the corresponding tag for the maximum state probability.\n",
    "            p.clear()\n",
    "            for tag in T:\n",
    "                if key == 0:\n",
    "                    transition_p = tags_df.loc['.', tag]\n",
    "                else:\n",
    "                    transition_p = tags_df.loc[state[-1], tag]\n",
    "\n",
    "                # compute emission and state probabilities\n",
    "                emission_p = word_given_tag(words[key], tag)[0]/word_given_tag(words[key], tag)[1]\n",
    "                if emission_p == 0 and transition_p != 0:\n",
    "                    emission_p = 1\n",
    "                elif transition_p == 0 and emission_p != 0:\n",
    "                    transition_p = 1\n",
    "                state_probability = emission_p * transition_p    \n",
    "                p.append(state_probability)\n",
    "            pmax = max(p)\n",
    "        \n",
    "        if(word_tag == None):\n",
    "            # getting state for which probability is maximum\n",
    "            if(pmax != 0):\n",
    "                state_max = T[p.index(pmax)]\n",
    "            else:\n",
    "                #Use default tag 'NOUN' if still pmax is 0\n",
    "                state_max = 'NOUN'\n",
    "            state.append(state_max)\n",
    "\n",
    "    return list(zip(words, state))\n"
   ]
  },
  {
   "cell_type": "markdown",
   "metadata": {},
   "source": [
    "#### Evaluating tagging accuracy"
   ]
  },
  {
   "cell_type": "markdown",
   "metadata": {},
   "source": [
    "#### Run and evaluate taging accuracy of base vanilla Viterbi algorithm "
   ]
  },
  {
   "cell_type": "code",
   "execution_count": 80,
   "metadata": {},
   "outputs": [
    {
     "name": "stdout",
     "output_type": "stream",
     "text": [
      "Time taken in seconds:  813.3114354610443\n"
     ]
    }
   ],
   "source": [
    "# tagging the test sentences\n",
    "start = time.time()\n",
    "tagged_seq_base = Viterbi(test_tagged_words)\n",
    "end = time.time()\n",
    "difference = end-start\n",
    "print(\"Time taken in seconds: \", difference)"
   ]
  },
  {
   "cell_type": "code",
   "execution_count": 81,
   "metadata": {},
   "outputs": [],
   "source": [
    "# accuracy\n",
    "check = [i for i, j in zip(tagged_seq_base, test_run_base) if i == j] "
   ]
  },
  {
   "cell_type": "code",
   "execution_count": 82,
   "metadata": {},
   "outputs": [],
   "source": [
    "base_accuracy = len(check)/len(tagged_seq_base)"
   ]
  },
  {
   "cell_type": "code",
   "execution_count": 83,
   "metadata": {},
   "outputs": [
    {
     "name": "stdout",
     "output_type": "stream",
     "text": [
      "Accuracy of base vanilla Viterbi alogirthm:  0.901937287797084\n"
     ]
    }
   ],
   "source": [
    "print('Accuracy of base vanilla Viterbi alogirthm: ', base_accuracy)"
   ]
  },
  {
   "cell_type": "markdown",
   "metadata": {},
   "source": [
    "#### Run and evaluate taging accuracy of modified Viterbi technique I "
   ]
  },
  {
   "cell_type": "code",
   "execution_count": 128,
   "metadata": {},
   "outputs": [
    {
     "name": "stdout",
     "output_type": "stream",
     "text": [
      "Time taken in seconds:  816.4512813091278\n"
     ]
    }
   ],
   "source": [
    "# tagging the test sentences\n",
    "start = time.time()\n",
    "tagged_seq_1 = modified_Viterbi_1(test_tagged_words)\n",
    "end = time.time()\n",
    "difference = end-start\n",
    "print(\"Time taken in seconds: \", difference)"
   ]
  },
  {
   "cell_type": "code",
   "execution_count": 129,
   "metadata": {},
   "outputs": [],
   "source": [
    "# accuracy\n",
    "check_1 = [i for i, j in zip(tagged_seq_1, test_run_base) if i == j] "
   ]
  },
  {
   "cell_type": "code",
   "execution_count": 130,
   "metadata": {},
   "outputs": [],
   "source": [
    "accuracy_1 = len(check_1)/len(tagged_seq_1)"
   ]
  },
  {
   "cell_type": "code",
   "execution_count": 131,
   "metadata": {},
   "outputs": [
    {
     "name": "stdout",
     "output_type": "stream",
     "text": [
      "Accuracy of modified Viterbi technique I:  0.9516676652686239\n"
     ]
    }
   ],
   "source": [
    "print('Accuracy of modified Viterbi technique I: ', accuracy_1)"
   ]
  },
  {
   "cell_type": "markdown",
   "metadata": {},
   "source": [
    "#### Run and evaluate taging accuracy of modified Viterbi technique II"
   ]
  },
  {
   "cell_type": "code",
   "execution_count": 152,
   "metadata": {},
   "outputs": [
    {
     "name": "stdout",
     "output_type": "stream",
     "text": [
      "Time taken in seconds:  815.5191783905029\n"
     ]
    }
   ],
   "source": [
    "# tagging the test sentences\n",
    "start = time.time()\n",
    "tagged_seq_2 = modified_Viterbi_2(test_tagged_words)\n",
    "end = time.time()\n",
    "difference = end-start\n",
    "print(\"Time taken in seconds: \", difference)"
   ]
  },
  {
   "cell_type": "code",
   "execution_count": 153,
   "metadata": {},
   "outputs": [],
   "source": [
    "# accuracy\n",
    "check_2 = [i for i, j in zip(tagged_seq_2, test_run_base) if i == j] "
   ]
  },
  {
   "cell_type": "code",
   "execution_count": 154,
   "metadata": {},
   "outputs": [],
   "source": [
    "accuracy_2 = len(check_2)/len(tagged_seq_base)"
   ]
  },
  {
   "cell_type": "code",
   "execution_count": 160,
   "metadata": {},
   "outputs": [
    {
     "name": "stdout",
     "output_type": "stream",
     "text": [
      "Accuracy of modified Viterbi technique II:  0.961078290393449\n"
     ]
    }
   ],
   "source": [
    "print('Accuracy of modified Viterbi technique II: ', accuracy_2)"
   ]
  },
  {
   "cell_type": "markdown",
   "metadata": {},
   "source": [
    "### Compare the tagging accuracies of the modifications with the vanilla Viterbi algorithm"
   ]
  },
  {
   "cell_type": "markdown",
   "metadata": {},
   "source": [
    "### Taging accuracy of base vanilla Viterbi algorithm: "
   ]
  },
  {
   "cell_type": "code",
   "execution_count": 159,
   "metadata": {},
   "outputs": [
    {
     "name": "stdout",
     "output_type": "stream",
     "text": [
      "Accuracy of base vanilla Viterbi alogirthm:  0.901937287797084\n"
     ]
    }
   ],
   "source": [
    "print('Accuracy of base vanilla Viterbi alogirthm: ', base_accuracy)"
   ]
  },
  {
   "cell_type": "markdown",
   "metadata": {},
   "source": [
    "### Taging accuracy of modified Viterbi technique I"
   ]
  },
  {
   "cell_type": "code",
   "execution_count": 161,
   "metadata": {},
   "outputs": [
    {
     "name": "stdout",
     "output_type": "stream",
     "text": [
      "Accuracy of modified Viterbi technique I:  0.9516676652686239\n"
     ]
    }
   ],
   "source": [
    "print('Accuracy of modified Viterbi technique I: ', accuracy_1)"
   ]
  },
  {
   "cell_type": "markdown",
   "metadata": {},
   "source": [
    "### Taging accuracy of modified Viterbi technique II"
   ]
  },
  {
   "cell_type": "code",
   "execution_count": 162,
   "metadata": {},
   "outputs": [
    {
     "name": "stdout",
     "output_type": "stream",
     "text": [
      "Accuracy of modified Viterbi technique II:  0.961078290393449\n"
     ]
    }
   ],
   "source": [
    "print('Accuracy of modified Viterbi technique II: ', accuracy_2)"
   ]
  },
  {
   "cell_type": "markdown",
   "metadata": {},
   "source": [
    "### List down cases which were incorrectly tagged by original POS tagger and got corrected by your modifications"
   ]
  },
  {
   "cell_type": "code",
   "execution_count": 98,
   "metadata": {},
   "outputs": [],
   "source": [
    "#Read the file - Test_sentences.txt\n",
    "text_file = open(\"Test_sentences.txt\", \"r\")\n",
    "lines = [line.rstrip('\\n') for line in text_file]\n",
    "text_file.close()"
   ]
  },
  {
   "cell_type": "code",
   "execution_count": 99,
   "metadata": {},
   "outputs": [
    {
     "data": {
      "text/plain": [
       "['Android is a mobile operating system developed by Google.',\n",
       " 'Android has been the best-selling OS worldwide on smartphones since 2011 and on tablets since 2013.',\n",
       " \"Google and Twitter made a deal in 2015 that gave Google access to Twitter's firehose.\",\n",
       " 'Twitter is an online news and social networking service on which users post and interact with messages known as tweets.',\n",
       " 'Before entering politics, Donald Trump was a domineering businessman and a television personality.',\n",
       " 'The 2018 FIFA World Cup is the 21st FIFA World Cup, an international football tournament contested once every four years.',\n",
       " 'This is the first World Cup to be held in Eastern Europe and the 11th time that it has been held in Europe.',\n",
       " 'Show me the cheapest round trips from Dallas to Atlanta',\n",
       " 'I would like to see flights from Denver to Philadelphia.',\n",
       " 'Show me the price of the flights leaving Atlanta at about 3 in the afternoon and arriving in San Francisco.',\n",
       " 'NASA invited social media users to experience the launch of ICESAT-2 Satellite.']"
      ]
     },
     "execution_count": 99,
     "metadata": {},
     "output_type": "execute_result"
    }
   ],
   "source": [
    "lines"
   ]
  },
  {
   "cell_type": "markdown",
   "metadata": {},
   "source": [
    "#### POS tagging of the first line in the file by base Viterbi algorithm"
   ]
  },
  {
   "cell_type": "code",
   "execution_count": 102,
   "metadata": {},
   "outputs": [
    {
     "name": "stdout",
     "output_type": "stream",
     "text": [
      "[('Android', 'ADP'), ('is', 'VERB'), ('a', 'DET'), ('mobile', 'ADJ'), ('operating', 'NOUN'), ('system', 'NOUN'), ('developed', 'VERB'), ('by', 'ADP'), ('Google', 'ADP'), ('.', '.')]\n"
     ]
    }
   ],
   "source": [
    "sentence_test = lines[0]\n",
    "words = word_tokenize(sentence_test)\n",
    "\n",
    "tagged_seq = Viterbi(words)\n",
    "\n",
    "print(tagged_seq)"
   ]
  },
  {
   "cell_type": "markdown",
   "metadata": {},
   "source": [
    "#### POS tagging of the first line in the file by modified Viterbi technique I"
   ]
  },
  {
   "cell_type": "code",
   "execution_count": 103,
   "metadata": {},
   "outputs": [
    {
     "name": "stdout",
     "output_type": "stream",
     "text": [
      "[('Android', 'NOUN'), ('is', 'VERB'), ('a', 'DET'), ('mobile', 'ADJ'), ('operating', 'NOUN'), ('system', 'NOUN'), ('developed', 'VERB'), ('by', 'ADP'), ('Google', 'NOUN'), ('.', '.')]\n"
     ]
    }
   ],
   "source": [
    "sentence_test = lines[0]\n",
    "words = word_tokenize(sentence_test)\n",
    "\n",
    "tagged_seq = modified_Viterbi_1(words)\n",
    "\n",
    "print(tagged_seq)"
   ]
  },
  {
   "cell_type": "markdown",
   "metadata": {},
   "source": [
    "#### POS tagging of the first line in the file by modified Viterbi Technique II"
   ]
  },
  {
   "cell_type": "code",
   "execution_count": 104,
   "metadata": {},
   "outputs": [
    {
     "name": "stdout",
     "output_type": "stream",
     "text": [
      "[('Android', 'NOUN'), ('is', 'VERB'), ('a', 'DET'), ('mobile', 'ADJ'), ('operating', 'NOUN'), ('system', 'NOUN'), ('developed', 'VERB'), ('by', 'ADP'), ('Google', 'NOUN'), ('.', '.')]\n"
     ]
    }
   ],
   "source": [
    "sentence_test = lines[0]\n",
    "words = word_tokenize(sentence_test)\n",
    "\n",
    "tagged_seq = modified_Viterbi_2(words)\n",
    "\n",
    "print(tagged_seq)"
   ]
  },
  {
   "cell_type": "markdown",
   "metadata": {},
   "source": [
    "#### Incorrect POS tagging by base Viterbi: ('Android', 'ADP'), ('Google', 'ADP')\n",
    "#### Correct POS tagging by modified Viterbi Technique I: ('Android', 'NOUN'), ('Google', 'NOUN')\n",
    "#### Correct POS tagging by modified Viterbi Technique II: ('Android', 'NOUN'), ('Google', 'NOUN')"
   ]
  },
  {
   "cell_type": "markdown",
   "metadata": {},
   "source": [
    "#### POS tagging of the second line in the file by base Viterbi algorithm"
   ]
  },
  {
   "cell_type": "code",
   "execution_count": 105,
   "metadata": {},
   "outputs": [
    {
     "name": "stdout",
     "output_type": "stream",
     "text": [
      "[('Android', 'ADP'), ('has', 'VERB'), ('been', 'VERB'), ('the', 'DET'), ('best-selling', 'ADJ'), ('OS', 'ADP'), ('worldwide', 'ADP'), ('on', 'ADP'), ('smartphones', 'ADP'), ('since', 'ADP'), ('2011', 'ADP'), ('and', 'CONJ'), ('on', 'ADP'), ('tablets', 'NOUN'), ('since', 'ADP'), ('2013', 'ADP'), ('.', '.')]\n"
     ]
    }
   ],
   "source": [
    "sentence_test = lines[1]\n",
    "words = word_tokenize(sentence_test)\n",
    "\n",
    "tagged_seq = Viterbi(words)\n",
    "\n",
    "print(tagged_seq)"
   ]
  },
  {
   "cell_type": "markdown",
   "metadata": {},
   "source": [
    "#### POS tagging of the second line in the file by modified Viterbi technique I"
   ]
  },
  {
   "cell_type": "code",
   "execution_count": 109,
   "metadata": {},
   "outputs": [
    {
     "name": "stdout",
     "output_type": "stream",
     "text": [
      "[('Android', 'NOUN'), ('has', 'VERB'), ('been', 'VERB'), ('the', 'DET'), ('best-selling', 'ADJ'), ('OS', 'NOUN'), ('worldwide', 'ADJ'), ('on', 'ADP'), ('smartphones', 'NOUN'), ('since', 'ADP'), ('2011', 'NUM'), ('and', 'CONJ'), ('on', 'ADP'), ('tablets', 'NOUN'), ('since', 'ADP'), ('2013', 'NUM'), ('.', '.')]\n"
     ]
    }
   ],
   "source": [
    "sentence_test = lines[1]\n",
    "words = word_tokenize(sentence_test)\n",
    "\n",
    "tagged_seq = modified_Viterbi_1(words)\n",
    "\n",
    "print(tagged_seq)"
   ]
  },
  {
   "cell_type": "markdown",
   "metadata": {},
   "source": [
    "#### POS tagging of the second line in the file by modified Viterbi Technique II"
   ]
  },
  {
   "cell_type": "code",
   "execution_count": 107,
   "metadata": {},
   "outputs": [
    {
     "name": "stdout",
     "output_type": "stream",
     "text": [
      "[('Android', 'NOUN'), ('has', 'VERB'), ('been', 'VERB'), ('the', 'DET'), ('best-selling', 'ADJ'), ('OS', 'NOUN'), ('worldwide', 'NOUN'), ('on', 'ADP'), ('smartphones', 'DET'), ('since', 'ADP'), ('2011', 'DET'), ('and', 'CONJ'), ('on', 'ADP'), ('tablets', 'NOUN'), ('since', 'ADP'), ('2013', 'NUM'), ('.', '.')]\n"
     ]
    }
   ],
   "source": [
    "sentence_test = lines[1]\n",
    "words = word_tokenize(sentence_test)\n",
    "\n",
    "tagged_seq = modified_Viterbi_2(words)\n",
    "\n",
    "print(tagged_seq)"
   ]
  },
  {
   "cell_type": "markdown",
   "metadata": {},
   "source": [
    "#### Incorrect POS tagging by base Viterbi: ('Android', 'ADP'), ('OS', 'ADP'),  ('smartphones', 'ADP'), ('2011', 'ADP'), ('2013', 'ADP')\n",
    "#### Correct POS tagging by modified Viterbi Technique I: ('Android', 'NOUN'), ('OS', 'NOUN'),  ('smartphones', 'NOUN'), ('2011', 'NUM'), ('2013', 'NUM')\n",
    "#### Correct POS tagging by modified Viterbi Technique II: ('Android', 'NOUN'), ('OS', 'NOUN')"
   ]
  },
  {
   "cell_type": "markdown",
   "metadata": {},
   "source": [
    "#### POS tagging of the third line in the file by base Viterbi algorithm"
   ]
  },
  {
   "cell_type": "code",
   "execution_count": 112,
   "metadata": {},
   "outputs": [
    {
     "name": "stdout",
     "output_type": "stream",
     "text": [
      "[('Google', 'ADP'), ('and', 'CONJ'), ('Twitter', 'ADP'), ('made', 'VERB'), ('a', 'DET'), ('deal', 'NOUN'), ('in', 'ADP'), ('2015', 'ADP'), ('that', 'DET'), ('gave', 'VERB'), ('Google', 'ADP'), ('access', 'NOUN'), ('to', 'PRT'), ('Twitter', 'ADP'), (\"'s\", 'PRT'), ('firehose', 'ADP'), ('.', '.')]\n"
     ]
    }
   ],
   "source": [
    "sentence_test = lines[2]\n",
    "words = word_tokenize(sentence_test)\n",
    "\n",
    "tagged_seq = Viterbi(words)\n",
    "\n",
    "print(tagged_seq)"
   ]
  },
  {
   "cell_type": "markdown",
   "metadata": {},
   "source": [
    "#### POS tagging of the third line in the file by modified Viterbi technique I"
   ]
  },
  {
   "cell_type": "code",
   "execution_count": 113,
   "metadata": {},
   "outputs": [
    {
     "name": "stdout",
     "output_type": "stream",
     "text": [
      "[('Google', 'NOUN'), ('and', 'CONJ'), ('Twitter', 'NOUN'), ('made', 'VERB'), ('a', 'DET'), ('deal', 'NOUN'), ('in', 'ADP'), ('2015', 'NUM'), ('that', 'ADP'), ('gave', 'VERB'), ('Google', 'NOUN'), ('access', 'NOUN'), ('to', 'PRT'), ('Twitter', 'VERB'), (\"'s\", 'PRT'), ('firehose', 'NOUN'), ('.', '.')]\n"
     ]
    }
   ],
   "source": [
    "sentence_test = lines[2]\n",
    "words = word_tokenize(sentence_test)\n",
    "\n",
    "tagged_seq = modified_Viterbi_1(words)\n",
    "\n",
    "print(tagged_seq)"
   ]
  },
  {
   "cell_type": "markdown",
   "metadata": {},
   "source": [
    "#### POS tagging of the third line in the file by modified Viterbi Technique II"
   ]
  },
  {
   "cell_type": "code",
   "execution_count": 114,
   "metadata": {},
   "outputs": [
    {
     "name": "stdout",
     "output_type": "stream",
     "text": [
      "[('Google', 'NOUN'), ('and', 'CONJ'), ('Twitter', 'NOUN'), ('made', 'VERB'), ('a', 'DET'), ('deal', 'NOUN'), ('in', 'ADP'), ('2015', 'NOUN'), ('that', 'ADP'), ('gave', 'VERB'), ('Google', 'NOUN'), ('access', 'NOUN'), ('to', 'PRT'), ('Twitter', 'NOUN'), (\"'s\", 'PRT'), ('firehose', 'NOUN'), ('.', '.')]\n"
     ]
    }
   ],
   "source": [
    "sentence_test = lines[2]\n",
    "words = word_tokenize(sentence_test)\n",
    "\n",
    "tagged_seq = modified_Viterbi_2(words)\n",
    "\n",
    "print(tagged_seq)"
   ]
  },
  {
   "cell_type": "markdown",
   "metadata": {},
   "source": [
    "#### Words with incorrect POS tagging by base Viterbi: ('Google', 'ADP'), ('Twitter', 'ADP'), ('2015', 'ADP'), ('that', 'DET'), ('Google', 'ADP'), ('Twitter', 'ADP'), ('firehose', 'ADP')\n",
    "#### Words with correct POS tagging by modified Viterbi Technique I: ('Google', 'NOUN'), ('Twitter', 'NOUN'), ('2015', 'NUM'), ('that', 'ADP'), ('Google', 'NOUN'), ('Twitter', 'NOUN'), ('firehose', 'NOUN')\n",
    "#### Words with correct POS tagging by modified Viterbi Technique II: ('Google', 'NOUN'), ('Twitter', 'NOUN'), ('that', 'ADP'), ('Google', 'NOUN'), ('Twitter', 'NOUN'), ('firehose', 'NOUN')"
   ]
  },
  {
   "cell_type": "markdown",
   "metadata": {},
   "source": [
    "#### POS tagging of the fourth line in the file by base Viterbi algorithm"
   ]
  },
  {
   "cell_type": "code",
   "execution_count": 122,
   "metadata": {},
   "outputs": [
    {
     "name": "stdout",
     "output_type": "stream",
     "text": [
      "[('Twitter', 'ADP'), ('is', 'VERB'), ('an', 'DET'), ('online', 'ADP'), ('news', 'NOUN'), ('and', 'CONJ'), ('social', 'ADJ'), ('networking', 'NOUN'), ('service', 'NOUN'), ('on', 'ADP'), ('which', 'DET'), ('users', 'NOUN'), ('post', 'NOUN'), ('and', 'CONJ'), ('interact', 'ADP'), ('with', 'ADP'), ('messages', 'ADP'), ('known', 'ADJ'), ('as', 'ADP'), ('tweets', 'ADP'), ('.', '.')]\n"
     ]
    }
   ],
   "source": [
    "sentence_test = lines[3]\n",
    "words = word_tokenize(sentence_test)\n",
    "\n",
    "tagged_seq = Viterbi(words)\n",
    "\n",
    "print(tagged_seq)"
   ]
  },
  {
   "cell_type": "markdown",
   "metadata": {},
   "source": [
    "#### POS tagging of the fourth line in the file by modified Viterbi technique I"
   ]
  },
  {
   "cell_type": "code",
   "execution_count": 123,
   "metadata": {},
   "outputs": [
    {
     "name": "stdout",
     "output_type": "stream",
     "text": [
      "[('Twitter', 'NOUN'), ('is', 'VERB'), ('an', 'DET'), ('online', 'NOUN'), ('news', 'NOUN'), ('and', 'CONJ'), ('social', 'ADJ'), ('networking', 'NOUN'), ('service', 'NOUN'), ('on', 'ADP'), ('which', 'DET'), ('users', 'NOUN'), ('post', 'NOUN'), ('and', 'CONJ'), ('interact', 'NOUN'), ('with', 'ADP'), ('messages', 'NOUN'), ('known', 'VERB'), ('as', 'ADP'), ('tweets', 'NOUN'), ('.', '.')]\n"
     ]
    }
   ],
   "source": [
    "sentence_test = lines[3]\n",
    "words = word_tokenize(sentence_test)\n",
    "\n",
    "tagged_seq = modified_Viterbi_1(words)\n",
    "\n",
    "print(tagged_seq)"
   ]
  },
  {
   "cell_type": "markdown",
   "metadata": {},
   "source": [
    "#### POS tagging of the fourth line in the file by modified Viterbi Technique II"
   ]
  },
  {
   "cell_type": "code",
   "execution_count": 124,
   "metadata": {},
   "outputs": [
    {
     "name": "stdout",
     "output_type": "stream",
     "text": [
      "[('Twitter', 'NOUN'), ('is', 'VERB'), ('an', 'DET'), ('online', 'NOUN'), ('news', 'NOUN'), ('and', 'CONJ'), ('social', 'ADJ'), ('networking', 'NOUN'), ('service', 'NOUN'), ('on', 'ADP'), ('which', 'DET'), ('users', 'NOUN'), ('post', 'NOUN'), ('and', 'CONJ'), ('interact', 'VERB'), ('with', 'ADP'), ('messages', 'DET'), ('known', 'VERB'), ('as', 'ADP'), ('tweets', 'NOUN'), ('.', '.')]\n"
     ]
    }
   ],
   "source": [
    "sentence_test = lines[3]\n",
    "words = word_tokenize(sentence_test)\n",
    "\n",
    "tagged_seq = modified_Viterbi_2(words)\n",
    "\n",
    "print(tagged_seq)"
   ]
  },
  {
   "cell_type": "markdown",
   "metadata": {},
   "source": [
    "#### Words with incorrect POS tagging by base Viterbi: ('Twitter', 'ADP'), ('interact', 'ADP'), ('messages', 'ADP'), ('known', 'ADJ'), ('tweets', 'ADP')\n",
    "#### Words with correct POS tagging by modified Viterbi Technique I: ('Twitter', 'NOUN'), ('messages', 'NOUN'), ('known', 'VERB'), ('tweets', 'NOUN')\n",
    "#### Words with correct POS tagging by modified Viterbi Technique II:  ('Twitter', 'NOUN'), ('interact', 'VERB'), ('known', 'VERB'), ('tweets', 'NOUN')"
   ]
  },
  {
   "cell_type": "markdown",
   "metadata": {},
   "source": [
    "#### POS tagging of the fifth line in the file by base Viterbi algorithm"
   ]
  },
  {
   "cell_type": "code",
   "execution_count": 125,
   "metadata": {},
   "outputs": [
    {
     "name": "stdout",
     "output_type": "stream",
     "text": [
      "[('Before', 'ADP'), ('entering', 'VERB'), ('politics', 'NOUN'), (',', '.'), ('Donald', 'NOUN'), ('Trump', 'NOUN'), ('was', 'VERB'), ('a', 'DET'), ('domineering', 'ADP'), ('businessman', 'NOUN'), ('and', 'CONJ'), ('a', 'DET'), ('television', 'NOUN'), ('personality', 'ADP'), ('.', '.')]\n"
     ]
    }
   ],
   "source": [
    "sentence_test = lines[4]\n",
    "words = word_tokenize(sentence_test)\n",
    "\n",
    "tagged_seq = Viterbi(words)\n",
    "\n",
    "print(tagged_seq)"
   ]
  },
  {
   "cell_type": "markdown",
   "metadata": {},
   "source": [
    "#### POS tagging of the fifth line in the file by modified Viterbi technique I"
   ]
  },
  {
   "cell_type": "code",
   "execution_count": 126,
   "metadata": {},
   "outputs": [
    {
     "name": "stdout",
     "output_type": "stream",
     "text": [
      "[('Before', 'ADP'), ('entering', 'VERB'), ('politics', 'NOUN'), (',', '.'), ('Donald', 'NOUN'), ('Trump', 'NOUN'), ('was', 'VERB'), ('a', 'DET'), ('domineering', 'ADJ'), ('businessman', 'NOUN'), ('and', 'CONJ'), ('a', 'DET'), ('television', 'NOUN'), ('personality', 'NOUN'), ('.', '.')]\n"
     ]
    }
   ],
   "source": [
    "sentence_test = lines[4]\n",
    "words = word_tokenize(sentence_test)\n",
    "\n",
    "tagged_seq = modified_Viterbi_1(words)\n",
    "\n",
    "print(tagged_seq)"
   ]
  },
  {
   "cell_type": "markdown",
   "metadata": {},
   "source": [
    "#### POS tagging of the fifth line in the file by modified Viterbi Technique II"
   ]
  },
  {
   "cell_type": "code",
   "execution_count": 127,
   "metadata": {},
   "outputs": [
    {
     "name": "stdout",
     "output_type": "stream",
     "text": [
      "[('Before', 'ADP'), ('entering', 'VERB'), ('politics', 'NOUN'), (',', '.'), ('Donald', 'NOUN'), ('Trump', 'NOUN'), ('was', 'VERB'), ('a', 'DET'), ('domineering', 'NOUN'), ('businessman', 'NOUN'), ('and', 'CONJ'), ('a', 'DET'), ('television', 'NOUN'), ('personality', 'NOUN'), ('.', '.')]\n"
     ]
    }
   ],
   "source": [
    "sentence_test = lines[4]\n",
    "words = word_tokenize(sentence_test)\n",
    "\n",
    "tagged_seq = modified_Viterbi_2(words)\n",
    "\n",
    "print(tagged_seq)"
   ]
  },
  {
   "cell_type": "markdown",
   "metadata": {},
   "source": [
    "#### Words with incorrect POS tagging by base Viterbi: ('domineering', 'ADP'), ('personality', 'ADP')\n",
    "#### Words with correct POS tagging by modified Viterbi Technique I: ('domineering', 'ADJ'), ('personality', 'NOUN')\n",
    "#### Words with correct POS tagging by modified Viterbi Technique II: ('personality', 'NOUN')"
   ]
  },
  {
   "cell_type": "markdown",
   "metadata": {},
   "source": [
    "#### POS tagging of the sixth line in the file by base Viterbi algorithm"
   ]
  },
  {
   "cell_type": "code",
   "execution_count": 136,
   "metadata": {},
   "outputs": [
    {
     "name": "stdout",
     "output_type": "stream",
     "text": [
      "[('The', 'DET'), ('2018', 'ADP'), ('FIFA', 'ADP'), ('World', 'NOUN'), ('Cup', 'ADP'), ('is', 'VERB'), ('the', 'DET'), ('21st', 'ADP'), ('FIFA', 'ADP'), ('World', 'NOUN'), ('Cup', 'ADP'), (',', '.'), ('an', 'DET'), ('international', 'ADJ'), ('football', 'NOUN'), ('tournament', 'ADP'), ('contested', 'ADP'), ('once', 'ADV'), ('every', 'DET'), ('four', 'NUM'), ('years', 'NOUN'), ('.', '.')]\n"
     ]
    }
   ],
   "source": [
    "sentence_test = lines[5]\n",
    "words = word_tokenize(sentence_test)\n",
    "\n",
    "tagged_seq = Viterbi(words)\n",
    "\n",
    "print(tagged_seq)"
   ]
  },
  {
   "cell_type": "markdown",
   "metadata": {},
   "source": [
    "#### POS tagging of the sixth line in the file by modified Viterbi technique I"
   ]
  },
  {
   "cell_type": "code",
   "execution_count": 138,
   "metadata": {},
   "outputs": [
    {
     "name": "stdout",
     "output_type": "stream",
     "text": [
      "[('The', 'DET'), ('2018', 'NUM'), ('FIFA', 'NOUN'), ('World', 'NOUN'), ('Cup', 'NOUN'), ('is', 'VERB'), ('the', 'DET'), ('21st', 'NOUN'), ('FIFA', 'NOUN'), ('World', 'NOUN'), ('Cup', 'NOUN'), (',', '.'), ('an', 'DET'), ('international', 'ADJ'), ('football', 'NOUN'), ('tournament', 'NOUN'), ('contested', 'VERB'), ('once', 'ADV'), ('every', 'DET'), ('four', 'NUM'), ('years', 'NOUN'), ('.', '.')]\n"
     ]
    }
   ],
   "source": [
    "sentence_test = lines[5]\n",
    "words = word_tokenize(sentence_test)\n",
    "\n",
    "tagged_seq = modified_Viterbi_1(words)\n",
    "\n",
    "print(tagged_seq)"
   ]
  },
  {
   "cell_type": "markdown",
   "metadata": {},
   "source": [
    "#### POS tagging of the sixth line in the file by modified Viterbi Technique II"
   ]
  },
  {
   "cell_type": "code",
   "execution_count": 139,
   "metadata": {},
   "outputs": [
    {
     "name": "stdout",
     "output_type": "stream",
     "text": [
      "[('The', 'DET'), ('2018', 'NOUN'), ('FIFA', 'NOUN'), ('World', 'NOUN'), ('Cup', 'NOUN'), ('is', 'VERB'), ('the', 'DET'), ('21st', 'NOUN'), ('FIFA', 'NOUN'), ('World', 'NOUN'), ('Cup', 'NOUN'), (',', '.'), ('an', 'DET'), ('international', 'ADJ'), ('football', 'NOUN'), ('tournament', 'NOUN'), ('contested', 'NOUN'), ('once', 'ADV'), ('every', 'DET'), ('four', 'NUM'), ('years', 'NOUN'), ('.', '.')]\n"
     ]
    }
   ],
   "source": [
    "sentence_test = lines[5]\n",
    "words = word_tokenize(sentence_test)\n",
    "\n",
    "tagged_seq = modified_Viterbi_2(words)\n",
    "\n",
    "print(tagged_seq)"
   ]
  },
  {
   "cell_type": "markdown",
   "metadata": {},
   "source": [
    "#### Words with incorrect POS tagging by base Viterbi: ('2018', 'ADP'), ('FIFA', 'ADP'), ('Cup', 'ADP'), ('FIFA', 'ADP'), ('Cup', 'ADP'),  ('tournament', 'ADP'), ('contested', 'ADP')\n",
    "#### Words with correct POS tagging by modified Viterbi Technique I: ('2018', 'NUM'), ('FIFA', 'NOUN'), ('Cup', 'NOUN'), ('FIFA', 'NOUN'), ('Cup', 'NOUN'), ('tournament', 'NOUN'), ('contested', 'VERB')\n",
    "#### Words with correct POS tagging by modified Viterbi Technique II: ('FIFA', 'NOUN'), ('Cup', 'NOUN'), ('FIFA', 'NOUN'), ('Cup', 'NOUN'), ('tournament', 'NOUN')"
   ]
  },
  {
   "cell_type": "code",
   "execution_count": null,
   "metadata": {},
   "outputs": [],
   "source": []
  }
 ],
 "metadata": {
  "kernelspec": {
   "display_name": "Python 3",
   "language": "python",
   "name": "python3"
  },
  "language_info": {
   "codemirror_mode": {
    "name": "ipython",
    "version": 3
   },
   "file_extension": ".py",
   "mimetype": "text/x-python",
   "name": "python",
   "nbconvert_exporter": "python",
   "pygments_lexer": "ipython3",
   "version": "3.6.5"
  }
 },
 "nbformat": 4,
 "nbformat_minor": 2
}
